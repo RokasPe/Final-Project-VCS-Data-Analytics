{
 "cells": [
  {
   "attachments": {},
   "cell_type": "markdown",
   "metadata": {},
   "source": [
    "# Initial installation and imports"
   ]
  },
  {
   "cell_type": "code",
   "execution_count": 2,
   "metadata": {},
   "outputs": [
    {
     "name": "stdout",
     "output_type": "stream",
     "text": [
      "Requirement already satisfied: requests in c:\\users\\rokas\\appdata\\local\\programs\\python\\python310\\lib\\site-packages (2.28.2)\n",
      "Requirement already satisfied: charset-normalizer<4,>=2 in c:\\users\\rokas\\appdata\\local\\programs\\python\\python310\\lib\\site-packages (from requests) (3.1.0)\n",
      "Requirement already satisfied: idna<4,>=2.5 in c:\\users\\rokas\\appdata\\local\\programs\\python\\python310\\lib\\site-packages (from requests) (3.4)\n",
      "Requirement already satisfied: urllib3<1.27,>=1.21.1 in c:\\users\\rokas\\appdata\\local\\programs\\python\\python310\\lib\\site-packages (from requests) (1.26.15)\n",
      "Requirement already satisfied: certifi>=2017.4.17 in c:\\users\\rokas\\appdata\\local\\programs\\python\\python310\\lib\\site-packages (from requests) (2022.12.7)\n",
      "Note: you may need to restart the kernel to use updated packages.\n"
     ]
    },
    {
     "name": "stderr",
     "output_type": "stream",
     "text": [
      "WARNING: You are using pip version 22.0.4; however, version 23.0.1 is available.\n",
      "You should consider upgrading via the 'c:\\Users\\rokas\\AppData\\Local\\Programs\\Python\\Python310\\python.exe -m pip install --upgrade pip' command.\n"
     ]
    }
   ],
   "source": [
    "%pip install requests"
   ]
  },
  {
   "cell_type": "code",
   "execution_count": 3,
   "metadata": {},
   "outputs": [],
   "source": [
    "# Imports\n",
    "import requests\n",
    "import pandas as pd\n",
    "import json\n",
    "import csv"
   ]
  },
  {
   "attachments": {},
   "cell_type": "markdown",
   "metadata": {},
   "source": [
    "# Loading data"
   ]
  },
  {
   "cell_type": "code",
   "execution_count": 4,
   "metadata": {},
   "outputs": [],
   "source": [
    "# Loading ATM JSON file\n",
    "with open('ATM.json', 'r', encoding='utf-8') as f:\n",
    "    atm_data = json.load(f)\n",
    "\n",
    "# Loading Population CSV file\n",
    "\n",
    "with open('population_city.csv', 'r', encoding='utf-8') as f:\n",
    "    reader = csv.DictReader(f)\n",
    "    population_city_data = list(reader)\n"
   ]
  },
  {
   "attachments": {},
   "cell_type": "markdown",
   "metadata": {},
   "source": [
    "# Data Cleaning"
   ]
  },
  {
   "cell_type": "code",
   "execution_count": 5,
   "metadata": {},
   "outputs": [
    {
     "name": "stdout",
     "output_type": "stream",
     "text": [
      "['Klaipėda', 'Akmenė', 'Šiauliai', 'Panevėžys', 'Alytus', 'Kazlų Rūda', 'Alytus', 'Palanga', 'Alytus', 'Mažeikiai', 'Vilnius', 'Alytus', 'Vilnius', 'Alytus', 'Alytus', 'Klaipėda', 'Vilnius', 'Alytus', 'Alytus', 'Vilnius', 'Vilnius', 'Anykščiai', 'Vilnius', 'Vilnius', 'Ariogala', 'Vilnius', 'Švenčionys', 'Anykščiai', 'Birštonas', 'Vilnius', 'Vilnius', 'Biržai', 'Biržai', 'Biržai', 'Didžioji Riešė', 'Druskininkai', 'Druskininkai', 'Druskininkai', 'Dusetos', 'Druskininkai', 'Elektrėnai', 'Elektrėnai', 'Elektrėnai', 'Druskininkai', 'Gargždai', 'Garliava', 'Grigiškės', 'Ignalina', 'Ignalina', 'Ignalina', 'Gargždai', 'Jonava', 'Jonava', 'Jonava', 'Jonava', 'Joniškis', 'Joniškis', 'Anykščiai', 'Jurbarkas', 'Joniškis', 'Kaišiadorys', 'Jurbarkas', 'Jurbarkas', 'Kalvarija', 'Kaišiadorys', 'Kaišiadorys', 'Kalvarija', 'Kaunas', 'Kaunas', 'Gargždai', 'Kaunas', 'Kaunas', 'Kaunas', 'Kaunas', 'Kaunas', 'Kaunas', 'Kaunas', 'Kaunas', 'Kaunas', 'Kaunas', 'Kaunas', 'Kaunas', 'Kaunas', 'Kaunas', 'Kaunas', 'Kaunas', 'Kaunas', 'Kaunas', 'Kaunas', 'Kaunas', 'Kaunas', 'Kaunas', 'Kaunas', 'Kaunas', 'Kaunas', 'Kaunas', 'Kaunas', 'Kaunas', 'Kaunas', 'Kaunas', 'Kaunas', 'Kaunas', 'Kaunas', 'Kaunas', 'Kaunas', 'Kaunas', 'Kaunas', 'Kaunas', 'Kaunas', 'Kaunas', 'Kaunas', 'Kaunas', 'Kaunas', 'Kazlų Rūda', 'Kėdainiai', 'Kėdainiai', 'Kaunas', 'Kėdainiai', 'Kėdainiai', 'Kelmė', 'Kelmė', 'Kybartai', 'Klaipėda', 'Klaipėda', 'Klaipėda', 'Klaipėda', 'Klaipėda', 'Klaipėda', 'Kaunas', 'Klaipėda', 'Klaipėda', 'Klaipėda', 'Klaipėda', 'Klaipėda', 'Klaipėda', 'Klaipėda', 'Kaunas', 'Klaipėda', 'Klaipėda', 'Klaipėda', 'Klaipėda', 'Klaipėda', 'Klaipėda', 'Klaipėda', 'Klaipėda', 'Klaipėda', 'Klaipėda', 'Klaipėda', 'Klaipėda', 'Klaipėda', 'Klaipėda', 'Krekenava', 'Klaipėda', 'Klaipėda', 'Kretinga', 'Kretinga', 'Kretinga', 'Kupiškis', 'Kupiškis', 'Kupiškis', 'Lazdijai', 'Kuršėnai', 'Lazdijai', 'Lentvaris', 'Lentvaris', 'Marijampolė', 'Marijampolė', 'Marijampolė', 'Marijampolė', 'Marijampolė', 'Marijampolė', 'Marijampolė', 'Marijampolė', 'Mažeikiai', 'Mažeikiai', 'Mažeikiai', 'Mažeikiai', 'Mažeikiai', 'Klaipėda', 'Mažeikiai', 'Molėtai', 'Molėtai', 'Kuršėnai', 'Nemenčinė', 'Naujoji Akmenė', 'Pabradė', 'Pakruojis', 'Pakruojis', 'Palanga', 'Palanga', 'Palanga', 'Molėtai', 'Panevėžys', 'Panevėžys', 'Panevėžys', 'Panevėžys', 'Panevėžys', 'Panevėžys', 'Panevėžys', 'Panevėžys', 'Panevėžys', 'Panevėžys', 'Panevėžys', 'Panevėžys', 'Panevėžys', 'Panevėžys', 'Panevėžys', 'Panevėžys', 'Panevėžys', 'Palanga', 'Panevėžys', 'Panevėžys', 'Plungė', 'Plungė', 'Plungė', 'Plungė', 'Priekulė', 'Prienai', 'Prienai', 'Prienai', 'Radviliškis', 'Pasvalys', 'Pasvalys', 'Radviliškis', 'Ramučiai', 'Radviliškis', 'Raseiniai', 'Raseiniai', 'Raseiniai', 'Pasvalys', 'Rietavas', 'Rietavas', 'Ringaudai', 'Rokiškis', 'Rokiškis', 'Salantai', 'Seda', 'Rokiškis', 'Skuodas', 'Šakiai', 'Rokiškis', 'Šakiai', 'Šakiai', 'Šalčininkai', 'Šalčininkai', 'Šeduva', 'Šalčininkai', 'Šiauliai', 'Šiauliai', 'Raseiniai', 'Skuodas', 'Šiauliai', 'Šiauliai', 'Šiauliai', 'Šiauliai', 'Šiauliai', 'Šiauliai', 'Šiauliai', 'Šiauliai', 'Šiauliai', 'Šiauliai', 'Šiauliai', 'Šiauliai', 'Šiauliai', 'Šiauliai', 'Šiauliai', 'Šiauliai', 'Šiauliai', 'Šilalė', 'Šiauliai', 'Šilalė', 'Šilalė', 'Šilutė', 'Šilutė', 'Šilutė', 'Širvintos', 'Širvintos', 'Šilutė', 'Švenčionys', 'Švenčionys', 'Šiauliai', 'Tauragė', 'Tauragė', 'Tauragė', 'Telšiai', 'Telšiai', 'Tytuvėnai', 'Telšiai', 'Telšiai', 'Trakai', 'Trakai', 'Ukmergė', 'Ukmergė', 'Ukmergė', 'Utena', 'Utena', 'Utena', 'Varėna', 'Varėna', 'Varėna', 'Veisiejai', 'Varniai', 'Venta', 'Vievis', 'Vilkaviškis', 'Vilkaviškis', 'Vilkaviškis', 'Vilkija', 'Vilkaviškis', 'Ukmergė', 'Vilnius', 'Vilnius', 'Vilnius', 'Vilnius', 'Vilnius', 'Vilnius', 'Vilnius', 'Vilnius', 'Vilnius', 'Vilnius', 'Vilnius', 'Vilnius', 'Vilnius', 'Vilnius', 'Vilnius', 'Vilnius', 'Vilnius', 'Vilnius', 'Vilnius', 'Vilnius', 'Vilnius', 'Vilnius', 'Vilnius', 'Vilnius', 'Vilnius', 'Vilnius', 'Vilnius', 'Vilnius', 'Vilnius', 'Vilnius', 'Vilnius', 'Vilnius', 'Vilnius', 'Vilnius', 'Vilnius', 'Vilnius', 'Vilnius', 'Vilnius', 'Vilnius', 'Vilnius', 'Vilnius', 'Vilnius', 'Vilnius', 'Vilnius', 'Vilnius', 'Vilnius', 'Vilnius', 'Vilnius', 'Vilnius', 'Vilnius', 'Vilnius', 'Vilnius', 'Vilnius', 'Vilnius', 'Vilnius', 'Vilnius', 'Vilnius', 'Vilnius', 'Vilnius', 'Vilnius', 'Vilnius', 'Vilnius', 'Vilnius', 'Vilnius', 'Vilnius', 'Vilnius', 'Vilnius', 'Vilnius', 'Vilnius', 'Vilnius', 'Vilnius', 'Vilnius', 'Vilnius', 'Vilnius', 'Vilnius', 'Vilnius', 'Vilnius', 'Vilnius', 'Vilnius', 'Visaginas', 'Visaginas', 'Visaginas', 'Visaginas', 'Vilnius', 'Zarasai', 'Zarasai', 'Žagarė', 'Vilnius', 'Alytus', 'Alytus', 'Alytus', 'Baisogala', 'Alytus', 'Anykščiai', 'Birštonas', 'Druskininkai', 'Biržai', 'Elektrėnai', 'Druskininkai', 'Garliava', 'Jonava', 'Vilnius', 'Jurbarkas', 'Karmėlava', 'Gargždai', 'Kaunas', 'Kaunas', 'Kaunas', 'Kaunas', 'Kaunas', 'Kaunas', 'Kaunas', 'Kaunas', 'Kaunas', 'Kaunas', 'Kaunas', 'Kaunas', 'Kaunas', 'Kaunas', 'Kėdainiai', 'Kėdainiai', 'Kaunas', 'Kaunas', 'Klaipėda', 'Klaipėda', 'Klaipėda', 'Kaunas', 'Klaipėda', 'Klaipėda', 'Klaipėda', 'Klaipėda', 'Klaipėda', 'Klaipėda', 'Klaipėda', 'Klaipėda', 'Kupiškis', 'Kretinga', 'Kuršėnai', 'Nida', 'Vilnius', 'Marijampolė', 'Klaipėda', 'Mažeikiai', 'Neringa', 'Marijampolė', 'Palanga', 'Palanga', 'Panevėžys', 'Kuršėnai', 'Panevėžys', 'Panevėžys', 'Plungė', 'Plungė', 'Prienai', 'Radviliškis', 'Pagėgiai', 'Rokiškis', 'Panevėžys', 'Šiauliai', 'Šiauliai', 'Šiauliai', 'Palanga', 'Šiauliai', 'Šiauliai', 'Raseiniai', 'Šiauliai', 'Šiauliai', 'Šiauliai', 'Šiauliai', 'Šilutė', 'Šilutė', 'Šiauliai', 'Tauragė', 'Tauragė', 'Trakai', 'Telšiai', 'Ukmergė', 'Utena', 'Varėna', 'Skuodas', 'Vilkaviškis', 'Šiauliai', 'Dukstyna', 'Vilnius', 'Vilnius', 'Vilnius', 'Vilnius', 'Vilnius', 'Vilnius', 'Vilnius', 'Vilnius', 'Vilnius', 'Vilnius', 'Vilnius', 'Vilnius', 'Vilnius', 'Vilnius', 'Vilnius', 'Vilnius', 'Vilnius', 'Vilnius', 'Vilnius', 'Vilnius', 'Vilnius', 'Vilnius', 'Vilnius', 'Vilnius', 'Vilnius', 'Vilnius', 'Vilnius', 'Vilnius', 'Vilnius', 'Vilnius', 'Vilnius', 'Vilnius', 'Vilnius', 'Vilnius', 'Vilnius', 'Vilnius', 'Visaginas', 'Visaginas', 'Alytus', 'Alytus', 'Alytus', 'Vilnius', 'Vilnius', 'Vilnius', 'Biržai', 'Eišiškės', 'Didžioji Riešė', 'Druskininkai', 'Elektrėnai', 'Gargždai', 'Garliava', 'Ignalina', 'Jonava', 'Jonava', 'Jonava', 'Gargždai', 'Joniškis', 'Joniškis', 'Kaišiadorys', 'Kalvarija', 'Kaišiadorys', 'Anykščiai', 'Jurbarkas', 'Jurbarkas', 'Kaunas', 'Kaunas', 'Kaunas', 'Kaunas', 'Kaunas', 'Kaunas', 'Kaunas', 'Kaunas', 'Kaunas', 'Kaunas', 'Kaunas', 'Kaunas', 'Kaunas', 'Kaunas', 'Kaunas', 'Kaunas', 'Kaunas', 'Kaunas', 'Kelmė', 'Kelmė', 'Kėdainiai\\xa0', 'Klaipėda', 'Kaunas', 'Klaipėda', 'Klaipėda', 'Klaipėda', 'Klaipėda', 'Klaipėda', 'Klaipėda', 'Kupiškis', 'Kretinga', 'Kybartai', 'Klaipėda', 'Kėdainiai', 'Lazdijai', 'Kaunas', 'Lentvaris', 'Marijampolė', 'Marijampolė', 'Marijampolė', 'Mažeikiai', 'Mažeikiai', 'Kretinga', 'Mažeikiai', 'Naujoji Akmenė', 'Kuršėnai', 'Lazdijai', 'Pabradė', 'Pakruojis', 'Pakruojis\\xa0', 'Palanga', 'Panevėžys', 'Panevėžys', 'Panevėžys', 'Panevėžys', 'Plungė', 'Plungė', 'Molėtai', 'Prienai', 'Radviliškis', 'Radviliškis', 'Raseiniai', 'Raseiniai', 'Rokiškis', 'Šakiai', 'Šakiai', 'Šalčininkai', 'Šalčininkai', 'Šiauliai', 'Pasvalys', 'Pasvalys', 'Šiauliai', 'Šiauliai', 'Šiauliai', 'Šilalė', 'Šilutė', 'Šiauliai', 'Širvintos', 'Skuodas', 'Skuodas', 'Švenčionėliai', 'Šilalė', 'Širvintos', 'Telšiai', 'Telšiai', 'Telšiai', 'Ukmergė', 'Trakai', 'Ukmergė', 'Šiauliai', 'Varėna', 'Vievis', 'Ukmergė', 'Utena', 'Vilkaviškis', 'Vilkaviškis', 'Vilkaviškis', 'Vilkija', 'Utena', 'Vilnius', 'Vilnius', 'Vilnius', 'Tauragė', 'Tauragė', 'Tauragė', 'Šilutė', 'Trakų Vokė', 'Vilnius', 'Vilnius', 'Vilnius', 'Vilnius', 'Vilnius', 'Vilnius', 'Vilnius', 'Vilnius', 'Vilnius', 'Vilnius', 'Vilnius', 'Vilnius', 'Vilnius', 'Vilnius', 'Vilnius', 'Vilnius', 'Vilnius', 'Vilnius', 'Vilnius', 'Vilnius', 'Vilnius', 'Vilnius', 'Vilnius', 'Vilnius', 'Visaginas', 'Zarasai', 'Akademija', 'Akademija', 'Vilnius', 'Vilnius', 'Alytus', 'Alytus', 'Alytus', 'Alytus', 'Alytus', 'Alytus', 'Anykščiai', 'Alytus', 'Anykščiai', 'Alytus', 'Biržai', 'Druskininkai', 'Didžioji Riešė', 'Dukstyna', 'Elektrėnai', 'Dukstyna', 'Vilnius', 'Druskininkai', 'Garliava', 'Ginkūnai', 'Grigiškės', 'Ignalina', 'Gargždai', 'Gargždai', 'Gargždai', 'Jonava', 'Jonava', 'Jonava', 'Jonava', 'Jonava', 'Jonava', 'Joniškis', 'Kaišiadorys', 'Kaišiadorys', 'Kaunas', 'Kaunas', 'Kaunas', 'Karmėlava', 'Kaunas', 'Kaunas', 'Kaunas', 'Kaunas', 'Kaunas', 'Kaunas', 'Kaunas', 'Kaunas', 'Kaunas', 'Kaunas', 'Kaunas', 'Kaunas', 'Kaunas', 'Kaunas', 'Kaunas', 'Kaunas', 'Kaunas', 'Kaunas', 'Kaunas', 'Kaunas', 'Kaunas', 'Kaunas', 'Kaunas', 'Kaunas', 'Kaunas', 'Kaunas', 'Kaunas', 'Kaunas', 'Kaunas', 'Kaunas', 'Kaunas', 'Kaunas', 'Kaunas', 'Kaunas', 'Kaunas', 'Kaunas', 'Kaunas', 'Kaunas', 'Kaunas', 'Kazlų Rūda', 'Kaunas', 'Kėdainiai', 'Kaunas', 'Kėdainiai', 'Kėdainiai', 'Kėdainiai', 'Kėdainiai', 'Klaipėda', 'Klaipėda', 'Klaipėda', 'Kaunas', 'Klaipėda', 'Klaipėda', 'Klaipėda', 'Klaipėda', 'Klaipėda', 'Klaipėda', 'Klaipėda', 'Klaipėda', 'Klaipėda', 'Klaipėda', 'Klaipėda', 'Klaipėda', 'Klaipėda', 'Klaipėda', 'Klaipėda', 'Klaipėda', 'Kretinga', 'Klaipėda', 'Klaipėda', 'Kretinga', 'Kupiškis', 'Kretinga', 'Kretinga', 'Lentvaris', 'Kuršėnai', 'Marijampolė', 'Marijampolė', 'Marijampolė', 'Marijampolė', 'Marijampolė', 'Marijampolė', 'Marijampolė', 'Marijampolė', 'Mažeikiai', 'Mažeikiai', 'Mažeikiai', 'Mažeikiai', 'Mažeikiai', 'Mažeikiai', 'Mažeikiai', 'Molėtai', 'Naujoji Akmenė', 'Nemenčinė', 'Palanga', 'Palanga', 'Panevėžys', 'Panevėžys', 'Panevėžys', 'Panevėžys', 'Palanga', 'Molėtai', 'Pabradė', 'Panevėžys', 'Panevėžys', 'Panevėžys', 'Panevėžys', 'Panevėžys', 'Nida', 'Naujojji Vilnia', 'Naujoji Vilnia', 'Panevėžys', 'Panevėžys', 'Panevėžys', 'Panevėžys', 'Panevėžys', 'Pasvalys', 'Panevėžys', 'Plungė', 'Panevėžys', 'Plungė', 'Prienai', 'Plungė', 'Radviliškis', 'Rokiškis', 'Raseiniai', 'Rudamina', 'Rokiškis', 'Šiauliai', 'Šiauliai', 'Šiauliai', 'Šiauliai', 'Šiauliai', 'Šiauliai', 'Šiauliai', 'Šiauliai', 'Šilutė', 'Šiauliai', 'Šilutė', 'Širvintos', 'Šiauliai', 'Tauragė', 'Tauragė', 'Tauragė', 'Parokiškė', 'Tauragė', 'Skaudvilė', 'Raseiniai', 'Telšiai', 'Trakai', 'Telšiai', 'Telšiai', 'Trakai', 'Telšiai', 'Ukmergė', 'Ukmergė', 'Utena', 'Utena', 'Utena', 'Utena', 'Rukla', 'Šventoji', 'Trakų Vokė', 'Utena', 'Utena', 'Utena', 'Varėna', 'Utena', 'Vilkavškis', 'Ukmergė', 'Vilnius', 'Vilnius', 'Vilnius', 'Vilnius', 'Vilnius', 'Vilnius', 'Vilnius', 'Vilnius', 'Vilnius', 'Vilnius', 'Vilnius', 'Vilnius', 'Vilnius', 'Vilnius', 'Vilnius', 'Vilnius', 'Vilnius', 'Vilnius', 'Vilnius', 'Vilnius', 'Vilnius', 'Vilnius', 'Vilnius', 'Vilnius', 'Vilnius', 'Vilnius', 'Vilnius', 'Vilnius', 'Vilnius', 'Vilnius', 'Vilnius', 'Vilnius', 'Vilnius', 'Vilnius', 'Vilnius', 'Vilnius', 'Vilnius', 'Vilnius', 'Vilnius', 'Vilnius', 'Vilnius', 'Vilnius', 'Vilnius', 'Vilnius', 'Vilnius', 'Vilnius', 'Vilnius', 'Vilnius', 'Vilnius', 'Vilnius', 'Vilnius', 'Vilnius', 'Vilnius', 'Vilnius', 'Vilnius', 'Vilnius', 'Vilnius', 'Vilnius', 'Vilnius', 'Vilnius', 'Vilnius', 'Vilnius', 'Vilnius', 'Vilnius', 'Vilnius', 'Vilnius', 'Vilnius', 'Vilnius', 'Vilnius', 'Vilnius', 'Vilnius', 'Vilnius', 'Vilnius', 'Vilnius', 'Vilnius', 'Vilnius', 'Vilnius', 'Vilnius', 'Vilnius', 'Vilnius', 'Visaginas', 'Visaginas', 'Zarasai', 'Vilnius', 'Vilnius', 'Vilnius', 'Vilnius', 'Kaunas', 'Kaunas', 'Kaunas', 'Kėdainiai', 'Kėdainiai', 'Kelmė', 'N. Akmenė', 'Pagėgiai', 'Švenčionėliai', 'Utena', 'Utena', 'Utena', 'Vievis', 'Kaunas', 'Adutiškis', 'Alanta', 'Alsėdžiai', 'Aukštadvaris', 'Babtai', 'Balbieriškis', 'BaltojiVokė', 'Butrimonys', 'Pabaliai, Daugėliškių k.', 'Darbėnai', 'Daugai', 'Didžiasalis', 'Dieveniškės', 'Dūkštas', 'Pyktiškė', 'Ežerėlis', 'Gelgaudiškis', 'Šėtupio g. 32, Girkalnis', 'Griškabūdis', 'Gruzdžiai', 'Igliauka', 'Išlaužas', 'Jašiūnai', 'Jieznas', 'Joniškėlis', 'Juodupė', 'Kaltinėnai', 'Kalveliai', 'Kartena', 'Kavarskas', 'Klausučiai', 'KudirkosNaumiestis', 'Kulautuva', 'Kužiai', 'Kvėdarna', 'Labūnava', 'Laukuva', 'Leipalingis', 'Maišiagala', 'Matuizos', 'Merkinė', 'Meškuičiai', 'Mickūnai', 'Miežiškiai', 'Mosėdis', 'Mostiškės', 'Naujamiestis', 'Nemakščiai', 'Obeliai', 'Paberžė', 'Pagiriai', 'Pajūris', 'Pakuonis', 'Paluknys', 'Pandėlys', 'Piliuona', 'Pilviškiai', 'Plateliai', 'Ramygala', 'Rozalimas', 'Rūdiškės', 'Rukainiai', 'Rumšiškės', 'Gedimino g. 11, Saločiai', 'Saugos', 'Seirijai', 'Simnas', 'Skaistgirys', 'Smalininkai', 'Stakliškės', 'Subačius', 'Sudervė', 'Šėta', 'Šiaulėnai', 'Švėkšna', 'Tryškiai', 'Upninkai', 'Rukai', 'Išorai', 'Užventis', 'Vabalninkas', 'Vainutas', 'Vandžiogala', 'Veiveriai', 'Veiviržėnai', 'Viduklė', 'Viekšniai', 'Viešvilė', 'Vienybės a. 14, Žeimelis', 'Žeimiai', 'ŽemaičiųNaumiestis', 'Žiežmariai', 'Kretingalė', 'Pumpėnai', 'Bijūtiškis', 'Linkuva', 'Svėdasai', 'Kačerginė', 'Ylakiai', 'Dercekliai', 'Kaunas', 'Biržai', 'Biržai', 'Kaišiadorys', 'Kaišiadorys', 'Plungė', 'Vilnius', 'Kėdainiai', 'Kaunas', 'Kaunas', 'Kaunas', 'Kėdainiai', 'Vilnius', 'Klaipeda', 'Vilnius', 'Vilnius', 'Palanga', 'Vilnius', 'Klaipeda', 'Kaunas', 'Vilnius', 'Vilnius', 'Vilnius', 'Karmėlava', 'Palanga', 'Vilnius', 'Vilnius', 'Vilnius', 'Vilnius', 'Vilnius', 'Vilnius', 'Vilnius', 'Vilnius', 'Kaunas', 'Vilnius', 'Vilnius']\n",
      "{'Klaipėda': 73, 'Akmenė': 1, 'Šiauliai': 49, 'Panevėžys': 44, 'Alytus': 23, 'Kazlų Rūda': 3, 'Palanga': 14, 'Mažeikiai': 18, 'Vilnius': 264, 'Anykščiai': 7, 'Ariogala': 1, 'Švenčionys': 3, 'Birštonas': 2, 'Biržai': 8, 'Didžioji Riešė': 3, 'Druskininkai': 10, 'Dusetos': 1, 'Elektrėnai': 6, 'Gargždai': 9, 'Garliava': 4, 'Grigiškės': 2, 'Ignalina': 5, 'Jonava': 14, 'Joniškis': 6, 'Jurbarkas': 6, 'Kaišiadorys': 9, 'Kalvarija': 3, 'Kaunas': 140, 'Kėdainiai': 16, 'Kelmė': 5, 'Kybartai': 2, 'Krekenava': 1, 'Kretinga': 10, 'Kupiškis': 6, 'Lazdijai': 4, 'Kuršėnai': 6, 'Lentvaris': 4, 'Marijampolė': 21, 'Molėtai': 6, 'Nemenčinė': 2, 'Naujoji Akmenė': 3, 'Pabradė': 3, 'Pakruojis': 3, 'Plungė': 12, 'Priekulė': 1, 'Prienai': 6, 'Radviliškis': 7, 'Pasvalys': 6, 'Ramučiai': 1, 'Raseiniai': 9, 'Rietavas': 2, 'Ringaudai': 1, 'Rokiškis': 8, 'Salantai': 1, 'Seda': 1, 'Skuodas': 5, 'Šakiai': 5, 'Šalčininkai': 5, 'Šeduva': 1, 'Šilalė': 5, 'Šilutė': 10, 'Širvintos': 5, 'Tauragė': 12, 'Telšiai': 12, 'Tytuvėnai': 1, 'Trakai': 6, 'Ukmergė': 11, 'Utena': 17, 'Varėna': 6, 'Veisiejai': 1, 'Varniai': 1, 'Venta': 1, 'Vievis': 3, 'Vilkaviškis': 8, 'Vilkija': 2, 'Visaginas': 9, 'Zarasai': 4, 'Žagarė': 1, 'Baisogala': 1, 'Karmėlava': 3, 'Nida': 2, 'Neringa': 1, 'Pagėgiai': 2, 'Dukstyna': 3, 'Eišiškės': 1, 'Kėdainiai\\xa0': 1, 'Pakruojis\\xa0': 1, 'Švenčionėliai': 2, 'Trakų Vokė': 2, 'Akademija': 2, 'Ginkūnai': 1, 'Naujojji Vilnia': 1, 'Naujoji Vilnia': 1, 'Rudamina': 1, 'Parokiškė': 1, 'Skaudvilė': 1, 'Rukla': 1, 'Šventoji': 1, 'Vilkavškis': 1, 'N. Akmenė': 1, 'Adutiškis': 1, 'Alanta': 1, 'Alsėdžiai': 1, 'Aukštadvaris': 1, 'Babtai': 1, 'Balbieriškis': 1, 'BaltojiVokė': 1, 'Butrimonys': 1, 'Pabaliai, Daugėliškių k.': 1, 'Darbėnai': 1, 'Daugai': 1, 'Didžiasalis': 1, 'Dieveniškės': 1, 'Dūkštas': 1, 'Pyktiškė': 1, 'Ežerėlis': 1, 'Gelgaudiškis': 1, 'Šėtupio g. 32, Girkalnis': 1, 'Griškabūdis': 1, 'Gruzdžiai': 1, 'Igliauka': 1, 'Išlaužas': 1, 'Jašiūnai': 1, 'Jieznas': 1, 'Joniškėlis': 1, 'Juodupė': 1, 'Kaltinėnai': 1, 'Kalveliai': 1, 'Kartena': 1, 'Kavarskas': 1, 'Klausučiai': 1, 'KudirkosNaumiestis': 1, 'Kulautuva': 1, 'Kužiai': 1, 'Kvėdarna': 1, 'Labūnava': 1, 'Laukuva': 1, 'Leipalingis': 1, 'Maišiagala': 1, 'Matuizos': 1, 'Merkinė': 1, 'Meškuičiai': 1, 'Mickūnai': 1, 'Miežiškiai': 1, 'Mosėdis': 1, 'Mostiškės': 1, 'Naujamiestis': 1, 'Nemakščiai': 1, 'Obeliai': 1, 'Paberžė': 1, 'Pagiriai': 1, 'Pajūris': 1, 'Pakuonis': 1, 'Paluknys': 1, 'Pandėlys': 1, 'Piliuona': 1, 'Pilviškiai': 1, 'Plateliai': 1, 'Ramygala': 1, 'Rozalimas': 1, 'Rūdiškės': 1, 'Rukainiai': 1, 'Rumšiškės': 1, 'Gedimino g. 11, Saločiai': 1, 'Saugos': 1, 'Seirijai': 1, 'Simnas': 1, 'Skaistgirys': 1, 'Smalininkai': 1, 'Stakliškės': 1, 'Subačius': 1, 'Sudervė': 1, 'Šėta': 1, 'Šiaulėnai': 1, 'Švėkšna': 1, 'Tryškiai': 1, 'Upninkai': 1, 'Rukai': 1, 'Išorai': 1, 'Užventis': 1, 'Vabalninkas': 1, 'Vainutas': 1, 'Vandžiogala': 1, 'Veiveriai': 1, 'Veiviržėnai': 1, 'Viduklė': 1, 'Viekšniai': 1, 'Viešvilė': 1, 'Vienybės a. 14, Žeimelis': 1, 'Žeimiai': 1, 'ŽemaičiųNaumiestis': 1, 'Žiežmariai': 1, 'Kretingalė': 1, 'Pumpėnai': 1, 'Bijūtiškis': 1, 'Linkuva': 1, 'Svėdasai': 1, 'Kačerginė': 1, 'Ylakiai': 1, 'Dercekliai': 1, 'Klaipeda': 2}\n"
     ]
    }
   ],
   "source": [
    "# Filtering out only relevant data which is cities\n",
    "atm_cities = []\n",
    "\n",
    "for feature in atm_data['features']:\n",
    "    city = feature['properties']['USER_Miest']\n",
    "    atm_cities.append(city)\n",
    "    \n",
    "print(atm_cities)\n",
    "\n",
    "# Counting ATMs in each city\n",
    "\n",
    "city_counts = {}\n",
    "\n",
    "for city in atm_cities:\n",
    "    if city in city_counts:\n",
    "        city_counts[city] += 1\n",
    "    else:\n",
    "        city_counts[city] = 1\n",
    "        \n",
    "print(city_counts)"
   ]
  },
  {
   "cell_type": "code",
   "execution_count": 6,
   "metadata": {},
   "outputs": [
    {
     "name": "stdout",
     "output_type": "stream",
     "text": [
      "{'Vilnius': '581475', 'Kaunas': '305120', 'Klaipėda': '158420', 'Šiauliai': '104300', 'Panevėžys': '87913', 'Alytus': '51856', 'Marijampolė': '36807', 'Mažeikiai': '33249', 'Jonava': '27134', 'Utena': '25608', 'Kėdainiai': '23447', 'Telšiai': '22261', 'Visaginas': '19586', 'Tauragė': '21416', 'Ukmergė': '21048', 'Plungė': '17385', 'Kretinga': '17207', 'Šilutė': '16200', 'Radviliškis': '15112', 'Palanga': '18132', 'Druskininkai': '13170', 'Rokiškis': '11606', 'Juodupė': '', 'Gargždai': '15932', 'Biržai': '10444', 'Elektrėnai': '11753', 'Kuršėnai': '10651', 'Jurbarkas': '10571', 'Garliava': '10110', 'Vilkaviškis': '10291', 'Raseiniai': '9763', 'Lentvaris': '9680', 'Anykščiai': '8638', 'Naujoji Akmenė': '8170', 'Grigiškės': '9750', 'Prienai': '8894', 'Joniškis': '8466', 'Kelmė': '7512', 'Varėna': '8042', 'Kaišiadorys': '8590', 'Pasvalys': '6411', 'Kupiškis': '6178', 'Zarasai': '5942', 'Skuodas': '5346', 'Kazlų Rūda': '5507', 'Širvintos': '5802', 'Molėtai': '5783', 'Šalčininkai': '6841', 'Šakiai': '5440', 'Švenčionėliai': '4613', 'Pabradė': '4735', 'Kybartai': '4015', 'Ignalina': '4998', 'Šilalė': '4699', 'Pakruojis': '4490', 'Nemenčinė': '4582', 'Švenčionys': '4480', 'Trakai': '5912', 'Vievis': '4214', 'Kalvarija': '4025', 'Lazdijai': '3895', 'Rietavas': '3253', 'Žiežmariai': '3034', 'Eišiškės': '2822', 'Ariogala': '2619', 'Šeduva': '2365', 'Tyruliai': '', 'Venta': '2155', 'Birštonas': '3094', 'Neringa': '4022', 'Akmenė': '2285', 'Tytuvėnai': '1774', 'Rūdiškės': '1943', 'Vilkija': '1730', 'Kulautuva': '', 'Pagėgiai': '1537', 'Viekšniai': '2180', 'Žagarė': '1247', 'Skaudvilė': '1370', 'Ežerėlis': '1583', 'Gelgaudiškis': '1522', 'Kudirkos Naumiestis': '1329', 'Simnas': '1192', 'Salantai': '1251', 'Linkuva': '1217', 'Ramygala': '1198', 'Priekulė': '1251', 'Veisiejai': '1054', 'Daugai': '940', 'Joniškėlis': '977', 'Jieznas': '1024', 'Obeliai': '814', 'Virbalis': '870', 'Varniai': '854', 'Seda': '869', 'Vabalninkas': '797', 'Subačius': '877', 'Baltoji Vokė': '991', 'Dūkštas': '682', 'Pandėlys': '695', 'Dusetos': '479', 'Užventis': '608', 'Kavarskas': '485', 'Smalininkai': '847', 'Troškūnai': '407', 'Panemunė': '207'}\n"
     ]
    }
   ],
   "source": [
    "# Cleaning population data to only get city and value (Miestas and Reikšmė). Using dict to make it consistent with the city_counts\n",
    "\n",
    "population_dict = {d['Miestas']: d['Reikšmė'] for d in population_city_data}\n",
    "print(population_dict)\n"
   ]
  },
  {
   "attachments": {},
   "cell_type": "markdown",
   "metadata": {},
   "source": [
    "# Checking the data for errors\n"
   ]
  },
  {
   "cell_type": "code",
   "execution_count": 7,
   "metadata": {},
   "outputs": [
    {
     "name": "stdout",
     "output_type": "stream",
     "text": [
      "There are 201 different cities in city_counts.\n",
      "106\n",
      "['Klaipėda', 'Akmenė', 'Šiauliai', 'Panevėžys', 'Alytus', 'Kazlų Rūda', 'Palanga', 'Mažeikiai', 'Vilnius', 'Anykščiai', 'Ariogala', 'Švenčionys', 'Birštonas', 'Biržai', 'Didžioji Riešė', 'Druskininkai', 'Dusetos', 'Elektrėnai', 'Gargždai', 'Garliava', 'Grigiškės', 'Ignalina', 'Jonava', 'Joniškis', 'Jurbarkas', 'Kaišiadorys', 'Kalvarija', 'Kaunas', 'Kėdainiai', 'Kelmė', 'Kybartai', 'Krekenava', 'Kretinga', 'Kupiškis', 'Lazdijai', 'Kuršėnai', 'Lentvaris', 'Marijampolė', 'Molėtai', 'Nemenčinė', 'Naujoji Akmenė', 'Pabradė', 'Pakruojis', 'Plungė', 'Priekulė', 'Prienai', 'Radviliškis', 'Pasvalys', 'Ramučiai', 'Raseiniai', 'Rietavas', 'Ringaudai', 'Rokiškis', 'Salantai', 'Seda', 'Skuodas', 'Šakiai', 'Šalčininkai', 'Šeduva', 'Šilalė', 'Šilutė', 'Širvintos', 'Tauragė', 'Telšiai', 'Tytuvėnai', 'Trakai', 'Ukmergė', 'Utena', 'Varėna', 'Veisiejai', 'Varniai', 'Venta', 'Vievis', 'Vilkaviškis', 'Vilkija', 'Visaginas', 'Zarasai', 'Žagarė', 'Baisogala', 'Karmėlava', 'Nida', 'Neringa', 'Pagėgiai', 'Dukstyna', 'Eišiškės', 'Kėdainiai\\xa0', 'Pakruojis\\xa0', 'Švenčionėliai', 'Trakų Vokė', 'Akademija', 'Ginkūnai', 'Naujojji Vilnia', 'Naujoji Vilnia', 'Rudamina', 'Parokiškė', 'Skaudvilė', 'Rukla', 'Šventoji', 'Vilkavškis', 'N. Akmenė', 'Adutiškis', 'Alanta', 'Alsėdžiai', 'Aukštadvaris', 'Babtai', 'Balbieriškis', 'BaltojiVokė', 'Butrimonys', 'Pabaliai, Daugėliškių k.', 'Darbėnai', 'Daugai', 'Didžiasalis', 'Dieveniškės', 'Dūkštas', 'Pyktiškė', 'Ežerėlis', 'Gelgaudiškis', 'Šėtupio g. 32, Girkalnis', 'Griškabūdis', 'Gruzdžiai', 'Igliauka', 'Išlaužas', 'Jašiūnai', 'Jieznas', 'Joniškėlis', 'Juodupė', 'Kaltinėnai', 'Kalveliai', 'Kartena', 'Kavarskas', 'Klausučiai', 'KudirkosNaumiestis', 'Kulautuva', 'Kužiai', 'Kvėdarna', 'Labūnava', 'Laukuva', 'Leipalingis', 'Maišiagala', 'Matuizos', 'Merkinė', 'Meškuičiai', 'Mickūnai', 'Miežiškiai', 'Mosėdis', 'Mostiškės', 'Naujamiestis', 'Nemakščiai', 'Obeliai', 'Paberžė', 'Pagiriai', 'Pajūris', 'Pakuonis', 'Paluknys', 'Pandėlys', 'Piliuona', 'Pilviškiai', 'Plateliai', 'Ramygala', 'Rozalimas', 'Rūdiškės', 'Rukainiai', 'Rumšiškės', 'Gedimino g. 11, Saločiai', 'Saugos', 'Seirijai', 'Simnas', 'Skaistgirys', 'Smalininkai', 'Stakliškės', 'Subačius', 'Sudervė', 'Šėta', 'Šiaulėnai', 'Švėkšna', 'Tryškiai', 'Upninkai', 'Rukai', 'Išorai', 'Užventis', 'Vabalninkas', 'Vainutas', 'Vandžiogala', 'Veiveriai', 'Veiviržėnai', 'Viduklė', 'Viekšniai', 'Viešvilė', 'Vienybės a. 14, Žeimelis', 'Žeimiai', 'ŽemaičiųNaumiestis', 'Žiežmariai', 'Kretingalė', 'Pumpėnai', 'Bijūtiškis', 'Linkuva', 'Svėdasai', 'Kačerginė', 'Ylakiai', 'Dercekliai', 'Klaipeda']\n",
      "['Vilnius', 'Kaunas', 'Klaipėda', 'Šiauliai', 'Panevėžys', 'Alytus', 'Marijampolė', 'Mažeikiai', 'Jonava', 'Utena', 'Kėdainiai', 'Telšiai', 'Visaginas', 'Tauragė', 'Ukmergė', 'Plungė', 'Kretinga', 'Šilutė', 'Radviliškis', 'Palanga', 'Druskininkai', 'Rokiškis', 'Juodupė', 'Gargždai', 'Biržai', 'Elektrėnai', 'Kuršėnai', 'Jurbarkas', 'Garliava', 'Vilkaviškis', 'Raseiniai', 'Lentvaris', 'Anykščiai', 'Naujoji Akmenė', 'Grigiškės', 'Prienai', 'Joniškis', 'Kelmė', 'Varėna', 'Kaišiadorys', 'Pasvalys', 'Kupiškis', 'Zarasai', 'Skuodas', 'Kazlų Rūda', 'Širvintos', 'Molėtai', 'Šalčininkai', 'Šakiai', 'Švenčionėliai', 'Pabradė', 'Kybartai', 'Ignalina', 'Šilalė', 'Pakruojis', 'Nemenčinė', 'Švenčionys', 'Trakai', 'Vievis', 'Kalvarija', 'Lazdijai', 'Rietavas', 'Žiežmariai', 'Eišiškės', 'Ariogala', 'Šeduva', 'Tyruliai', 'Venta', 'Birštonas', 'Neringa', 'Akmenė', 'Tytuvėnai', 'Rūdiškės', 'Vilkija', 'Kulautuva', 'Pagėgiai', 'Viekšniai', 'Žagarė', 'Skaudvilė', 'Ežerėlis', 'Gelgaudiškis', 'Kudirkos Naumiestis', 'Simnas', 'Salantai', 'Linkuva', 'Ramygala', 'Priekulė', 'Veisiejai', 'Daugai', 'Joniškėlis', 'Jieznas', 'Obeliai', 'Virbalis', 'Varniai', 'Seda', 'Vabalninkas', 'Subačius', 'Baltoji Vokė', 'Dūkštas', 'Pandėlys', 'Dusetos', 'Užventis', 'Kavarskas', 'Smalininkai', 'Troškūnai', 'Panemunė']\n"
     ]
    }
   ],
   "source": [
    "num_cities = len(city_counts.keys())\n",
    "print(\"There are\", num_cities, \"different cities in city_counts.\")\n",
    "num_cities = len(population_dict.keys())\n",
    "print(num_cities)\n",
    "\n",
    "unique_cities = [city for city in city_counts.keys()]\n",
    "print(unique_cities)\n",
    "unique_cities2 = [city for city in population_dict.keys()]\n",
    "print(unique_cities2)\n"
   ]
  },
  {
   "cell_type": "code",
   "execution_count": 8,
   "metadata": {},
   "outputs": [
    {
     "name": "stdout",
     "output_type": "stream",
     "text": [
      "Cities unique to city_counts: {'Alsėdžiai', 'Alanta', 'Didžiasalis', 'Pakuonis', 'Išlaužas', 'Rudamina', 'Naujamiestis', 'Dercekliai', 'Kėdainiai\\xa0', 'Butrimonys', 'Saugos', 'Merkinė', 'Kalveliai', 'Veiveriai', 'Dukstyna', 'Parokiškė', 'Pajūris', 'Mostiškės', 'Šėta', 'Vilkavškis', 'Vienybės a. 14, Žeimelis', 'Ylakiai', 'Gruzdžiai', 'Šėtupio g. 32, Girkalnis', 'Klaipeda', 'KudirkosNaumiestis', 'Karmėlava', 'Plateliai', 'Balbieriškis', 'Pumpėnai', 'Pabaliai, Daugėliškių k.', 'Ginkūnai', 'Seirijai', 'Adutiškis', 'Sudervė', 'Nida', 'Vandžiogala', 'Rozalimas', 'Maišiagala', 'Rukla', 'BaltojiVokė', 'Upninkai', 'Gedimino g. 11, Saločiai', 'Krekenava', 'Bijūtiškis', 'Laukuva', 'Šventoji', 'Mosėdis', 'Pyktiškė', 'Trakų Vokė', 'Naujojji Vilnia', 'Piliuona', 'Vainutas', 'Akademija', 'Išorai', 'Ringaudai', 'Kvėdarna', 'Kužiai', 'ŽemaičiųNaumiestis', 'Svėdasai', 'Paberžė', 'Leipalingis', 'Meškuičiai', 'Mickūnai', 'Nemakščiai', 'Rukai', 'Baisogala', 'Babtai', 'Pagiriai', 'N. Akmenė', 'Dieveniškės', 'Viešvilė', 'Paluknys', 'Darbėnai', 'Kartena', 'Jašiūnai', 'Pakruojis\\xa0', 'Matuizos', 'Miežiškiai', 'Kačerginė', 'Tryškiai', 'Didžioji Riešė', 'Šiaulėnai', 'Stakliškės', 'Pilviškiai', 'Klausučiai', 'Viduklė', 'Žeimiai', 'Rumšiškės', 'Kretingalė', 'Rukainiai', 'Ramučiai', 'Griškabūdis', 'Labūnava', 'Kaltinėnai', 'Veiviržėnai', 'Aukštadvaris', 'Igliauka', 'Švėkšna', 'Naujoji Vilnia', 'Skaistgirys'}\n",
      "Cities unique to population_dict: {'Panemunė', 'Tyruliai', 'Virbalis', 'Kudirkos Naumiestis', 'Troškūnai', 'Baltoji Vokė'}\n"
     ]
    }
   ],
   "source": [
    "unique_cities = list(city_counts.keys())\n",
    "unique_cities2 = list(population_dict.keys())\n",
    "\n",
    "# Find cities that appear in only one of the lists\n",
    "unique_to_city_counts = set(unique_cities).difference(unique_cities2)\n",
    "unique_to_population_dict = set(unique_cities2).difference(unique_cities)\n",
    "\n",
    "# Print the results\n",
    "print(\"Cities unique to city_counts:\", unique_to_city_counts)\n",
    "print(\"Cities unique to population_dict:\", unique_to_population_dict)\n"
   ]
  },
  {
   "attachments": {},
   "cell_type": "markdown",
   "metadata": {},
   "source": [
    "# Correcting data\n"
   ]
  },
  {
   "cell_type": "code",
   "execution_count": 9,
   "metadata": {},
   "outputs": [],
   "source": [
    "# Correcting some of the data after analyzing it. For cities where we do not have any population data, we just ignore, assuming they are too small and such calculation would be inaccurate\n",
    "\n",
    "city_corrections = {\n",
    "    \"N. Akmenė\": \"Naujoji Akmenė\",\n",
    "    \"ŽemaičiųNaumiestis\": \"Žemaičių Naumiestis\",\n",
    "    \"KudirkosNaumiestis\": \"Kudirkos Naumiestis\",\n",
    "    \"Vienybės a. 14, Žeimelis\": \"Žeimelis\",\n",
    "    \"Pabaliai, Daugėliškių k.\": \"Pabaliai\",\n",
    "    \"Kėdainiai\\xa0\": \"Kėdainiai\",\n",
    "    \"Gedimino g. 11, Saločiai\": \"Saločiai\",\n",
    "    \"BaltojiVokė\": \"Baltoji Vokė\",\n",
    "    \"Naujojji Vilnia\": \"Naujoji Vilnia\",\n",
    "    \"Šėtupio g. 32, Girkalnis\": \"Girkalnis\",\n",
    "    \"Pakruojis\\xa0\": \"Pakruojis\",\n",
    "    \"Klaipeda\": \"Klaipėda\"\n",
    "}\n",
    "\n",
    "corrected_city_counts = {}\n",
    "\n",
    "for city, count in city_counts.items():\n",
    "    corrected_city = city_corrections.get(city, city)\n",
    "    corrected_city_counts[corrected_city] = corrected_city_counts.get(corrected_city, 0) + count\n",
    "\n",
    "city_counts = corrected_city_counts\n",
    "\n"
   ]
  },
  {
   "attachments": {},
   "cell_type": "markdown",
   "metadata": {},
   "source": [
    "# Calculation of ATM # per 10 000 capita in each city."
   ]
  },
  {
   "cell_type": "code",
   "execution_count": 10,
   "metadata": {},
   "outputs": [
    {
     "name": "stdout",
     "output_type": "stream",
     "text": [
      "Population data not available for Didžioji Riešė\n",
      "Population data not available for Krekenava\n",
      "Population data not available for Ramučiai\n",
      "Population data not available for Ringaudai\n",
      "Population data not available for Baisogala\n",
      "Population data not available for Karmėlava\n",
      "Population data not available for Nida\n",
      "Population data not available for Dukstyna\n",
      "Population data not available for Trakų Vokė\n",
      "Population data not available for Akademija\n",
      "Population data not available for Ginkūnai\n",
      "Population data not available for Naujoji Vilnia\n",
      "Population data not available for Rudamina\n",
      "Population data not available for Parokiškė\n",
      "Population data not available for Rukla\n",
      "Population data not available for Šventoji\n",
      "Population data not available for Vilkavškis\n",
      "Population data not available for Adutiškis\n",
      "Population data not available for Alanta\n",
      "Population data not available for Alsėdžiai\n",
      "Population data not available for Aukštadvaris\n",
      "Population data not available for Babtai\n",
      "Population data not available for Balbieriškis\n",
      "Population data not available for Butrimonys\n",
      "Population data not available for Pabaliai\n",
      "Population data not available for Darbėnai\n",
      "Population data not available for Didžiasalis\n",
      "Population data not available for Dieveniškės\n",
      "Population data not available for Pyktiškė\n",
      "Population data not available for Girkalnis\n",
      "Population data not available for Griškabūdis\n",
      "Population data not available for Gruzdžiai\n",
      "Population data not available for Igliauka\n",
      "Population data not available for Išlaužas\n",
      "Population data not available for Jašiūnai\n",
      "Population data not available for Juodupė\n",
      "Population data not available for Kaltinėnai\n",
      "Population data not available for Kalveliai\n",
      "Population data not available for Kartena\n",
      "Population data not available for Klausučiai\n",
      "Population data not available for Kulautuva\n",
      "Population data not available for Kužiai\n",
      "Population data not available for Kvėdarna\n",
      "Population data not available for Labūnava\n",
      "Population data not available for Laukuva\n",
      "Population data not available for Leipalingis\n",
      "Population data not available for Maišiagala\n",
      "Population data not available for Matuizos\n",
      "Population data not available for Merkinė\n",
      "Population data not available for Meškuičiai\n",
      "Population data not available for Mickūnai\n",
      "Population data not available for Miežiškiai\n",
      "Population data not available for Mosėdis\n",
      "Population data not available for Mostiškės\n",
      "Population data not available for Naujamiestis\n",
      "Population data not available for Nemakščiai\n",
      "Population data not available for Paberžė\n",
      "Population data not available for Pagiriai\n",
      "Population data not available for Pajūris\n",
      "Population data not available for Pakuonis\n",
      "Population data not available for Paluknys\n",
      "Population data not available for Piliuona\n",
      "Population data not available for Pilviškiai\n",
      "Population data not available for Plateliai\n",
      "Population data not available for Rozalimas\n",
      "Population data not available for Rukainiai\n",
      "Population data not available for Rumšiškės\n",
      "Population data not available for Saločiai\n",
      "Population data not available for Saugos\n",
      "Population data not available for Seirijai\n",
      "Population data not available for Skaistgirys\n",
      "Population data not available for Stakliškės\n",
      "Population data not available for Sudervė\n",
      "Population data not available for Šėta\n",
      "Population data not available for Šiaulėnai\n",
      "Population data not available for Švėkšna\n",
      "Population data not available for Tryškiai\n",
      "Population data not available for Upninkai\n",
      "Population data not available for Rukai\n",
      "Population data not available for Išorai\n",
      "Population data not available for Vainutas\n",
      "Population data not available for Vandžiogala\n",
      "Population data not available for Veiveriai\n",
      "Population data not available for Veiviržėnai\n",
      "Population data not available for Viduklė\n",
      "Population data not available for Viešvilė\n",
      "Population data not available for Žeimelis\n",
      "Population data not available for Žeimiai\n",
      "Population data not available for Žemaičių Naumiestis\n",
      "Population data not available for Kretingalė\n",
      "Population data not available for Pumpėnai\n",
      "Population data not available for Bijūtiškis\n",
      "Population data not available for Svėdasai\n",
      "Population data not available for Kačerginė\n",
      "Population data not available for Ylakiai\n",
      "Population data not available for Dercekliai\n",
      "Number of cities with population data not available: 96\n"
     ]
    }
   ],
   "source": [
    "# Calculating ATM per 10k for each city.\n",
    "\n",
    "atms_per_10k_dict = {}\n",
    "not_available_count = 0\n",
    "\n",
    "for city, atms in city_counts.items():\n",
    "    population_str = population_dict.get(city, '')\n",
    "    if population_str:\n",
    "        population = int(population_str)\n",
    "        if population > 1000: # Assuming smaller cities will have highly skewed data, so only taking cities with over 1 000 people\n",
    "            atms_per_10k = round((atms / population) * 10000, 2)\n",
    "            atms_per_10k_dict[city] = atms_per_10k\n",
    "    else:\n",
    "        print(f\"Population data not available for {city}\")\n",
    "        not_available_count += 1\n",
    "        \n",
    "print(f\"Number of cities with population data not available: {not_available_count}\") # As mentioned above in the Correcting data section, I will ignore these, as most of these are very small cities and most likely their data might be skewed\n"
   ]
  },
  {
   "cell_type": "code",
   "execution_count": 11,
   "metadata": {},
   "outputs": [
    {
     "name": "stdout",
     "output_type": "stream",
     "text": [
      "{'Klaipėda': 4.73, 'Akmenė': 4.38, 'Šiauliai': 4.7, 'Panevėžys': 5.0, 'Alytus': 4.44, 'Kazlų Rūda': 5.45, 'Palanga': 7.72, 'Mažeikiai': 5.41, 'Vilnius': 4.54, 'Anykščiai': 8.1, 'Ariogala': 3.82, 'Švenčionys': 6.7, 'Birštonas': 6.46, 'Biržai': 7.66, 'Druskininkai': 7.59, 'Elektrėnai': 5.11, 'Gargždai': 5.65, 'Garliava': 3.96, 'Grigiškės': 2.05, 'Ignalina': 10.0, 'Jonava': 5.16, 'Joniškis': 7.09, 'Jurbarkas': 5.68, 'Kaišiadorys': 10.48, 'Kalvarija': 7.45, 'Kaunas': 4.59, 'Kėdainiai': 7.25, 'Kelmė': 6.66, 'Kybartai': 4.98, 'Kretinga': 5.81, 'Kupiškis': 9.71, 'Lazdijai': 10.27, 'Kuršėnai': 5.63, 'Lentvaris': 4.13, 'Marijampolė': 5.71, 'Molėtai': 10.38, 'Nemenčinė': 4.36, 'Naujoji Akmenė': 4.9, 'Pabradė': 6.34, 'Pakruojis': 8.91, 'Plungė': 6.9, 'Priekulė': 7.99, 'Prienai': 6.75, 'Radviliškis': 4.63, 'Pasvalys': 9.36, 'Raseiniai': 9.22, 'Rietavas': 6.15, 'Rokiškis': 6.89, 'Salantai': 7.99, 'Skuodas': 9.35, 'Šakiai': 9.19, 'Šalčininkai': 7.31, 'Šeduva': 4.23, 'Šilalė': 10.64, 'Šilutė': 6.17, 'Širvintos': 8.62, 'Tauragė': 5.6, 'Telšiai': 5.39, 'Tytuvėnai': 5.64, 'Trakai': 10.15, 'Ukmergė': 5.23, 'Utena': 6.64, 'Varėna': 7.46, 'Veisiejai': 9.49, 'Venta': 4.64, 'Vievis': 7.12, 'Vilkaviškis': 7.77, 'Vilkija': 11.56, 'Visaginas': 4.6, 'Zarasai': 6.73, 'Žagarė': 8.02, 'Neringa': 2.49, 'Pagėgiai': 13.01, 'Eišiškės': 3.54, 'Švenčionėliai': 4.34, 'Skaudvilė': 7.3, 'Ežerėlis': 6.32, 'Gelgaudiškis': 6.57, 'Jieznas': 9.77, 'Kudirkos Naumiestis': 7.52, 'Ramygala': 8.35, 'Rūdiškės': 5.15, 'Simnas': 8.39, 'Viekšniai': 4.59, 'Žiežmariai': 3.3, 'Linkuva': 8.22}\n",
      "{'Klaipėda': 75, 'Akmenė': 1, 'Šiauliai': 49, 'Panevėžys': 44, 'Alytus': 23, 'Kazlų Rūda': 3, 'Palanga': 14, 'Mažeikiai': 18, 'Vilnius': 264, 'Anykščiai': 7, 'Ariogala': 1, 'Švenčionys': 3, 'Birštonas': 2, 'Biržai': 8, 'Didžioji Riešė': 3, 'Druskininkai': 10, 'Dusetos': 1, 'Elektrėnai': 6, 'Gargždai': 9, 'Garliava': 4, 'Grigiškės': 2, 'Ignalina': 5, 'Jonava': 14, 'Joniškis': 6, 'Jurbarkas': 6, 'Kaišiadorys': 9, 'Kalvarija': 3, 'Kaunas': 140, 'Kėdainiai': 17, 'Kelmė': 5, 'Kybartai': 2, 'Krekenava': 1, 'Kretinga': 10, 'Kupiškis': 6, 'Lazdijai': 4, 'Kuršėnai': 6, 'Lentvaris': 4, 'Marijampolė': 21, 'Molėtai': 6, 'Nemenčinė': 2, 'Naujoji Akmenė': 4, 'Pabradė': 3, 'Pakruojis': 4, 'Plungė': 12, 'Priekulė': 1, 'Prienai': 6, 'Radviliškis': 7, 'Pasvalys': 6, 'Ramučiai': 1, 'Raseiniai': 9, 'Rietavas': 2, 'Ringaudai': 1, 'Rokiškis': 8, 'Salantai': 1, 'Seda': 1, 'Skuodas': 5, 'Šakiai': 5, 'Šalčininkai': 5, 'Šeduva': 1, 'Šilalė': 5, 'Šilutė': 10, 'Širvintos': 5, 'Tauragė': 12, 'Telšiai': 12, 'Tytuvėnai': 1, 'Trakai': 6, 'Ukmergė': 11, 'Utena': 17, 'Varėna': 6, 'Veisiejai': 1, 'Varniai': 1, 'Venta': 1, 'Vievis': 3, 'Vilkaviškis': 8, 'Vilkija': 2, 'Visaginas': 9, 'Zarasai': 4, 'Žagarė': 1, 'Baisogala': 1, 'Karmėlava': 3, 'Nida': 2, 'Neringa': 1, 'Pagėgiai': 2, 'Dukstyna': 3, 'Eišiškės': 1, 'Švenčionėliai': 2, 'Trakų Vokė': 2, 'Akademija': 2, 'Ginkūnai': 1, 'Naujoji Vilnia': 2, 'Rudamina': 1, 'Parokiškė': 1, 'Skaudvilė': 1, 'Rukla': 1, 'Šventoji': 1, 'Vilkavškis': 1, 'Adutiškis': 1, 'Alanta': 1, 'Alsėdžiai': 1, 'Aukštadvaris': 1, 'Babtai': 1, 'Balbieriškis': 1, 'Baltoji Vokė': 1, 'Butrimonys': 1, 'Pabaliai': 1, 'Darbėnai': 1, 'Daugai': 1, 'Didžiasalis': 1, 'Dieveniškės': 1, 'Dūkštas': 1, 'Pyktiškė': 1, 'Ežerėlis': 1, 'Gelgaudiškis': 1, 'Girkalnis': 1, 'Griškabūdis': 1, 'Gruzdžiai': 1, 'Igliauka': 1, 'Išlaužas': 1, 'Jašiūnai': 1, 'Jieznas': 1, 'Joniškėlis': 1, 'Juodupė': 1, 'Kaltinėnai': 1, 'Kalveliai': 1, 'Kartena': 1, 'Kavarskas': 1, 'Klausučiai': 1, 'Kudirkos Naumiestis': 1, 'Kulautuva': 1, 'Kužiai': 1, 'Kvėdarna': 1, 'Labūnava': 1, 'Laukuva': 1, 'Leipalingis': 1, 'Maišiagala': 1, 'Matuizos': 1, 'Merkinė': 1, 'Meškuičiai': 1, 'Mickūnai': 1, 'Miežiškiai': 1, 'Mosėdis': 1, 'Mostiškės': 1, 'Naujamiestis': 1, 'Nemakščiai': 1, 'Obeliai': 1, 'Paberžė': 1, 'Pagiriai': 1, 'Pajūris': 1, 'Pakuonis': 1, 'Paluknys': 1, 'Pandėlys': 1, 'Piliuona': 1, 'Pilviškiai': 1, 'Plateliai': 1, 'Ramygala': 1, 'Rozalimas': 1, 'Rūdiškės': 1, 'Rukainiai': 1, 'Rumšiškės': 1, 'Saločiai': 1, 'Saugos': 1, 'Seirijai': 1, 'Simnas': 1, 'Skaistgirys': 1, 'Smalininkai': 1, 'Stakliškės': 1, 'Subačius': 1, 'Sudervė': 1, 'Šėta': 1, 'Šiaulėnai': 1, 'Švėkšna': 1, 'Tryškiai': 1, 'Upninkai': 1, 'Rukai': 1, 'Išorai': 1, 'Užventis': 1, 'Vabalninkas': 1, 'Vainutas': 1, 'Vandžiogala': 1, 'Veiveriai': 1, 'Veiviržėnai': 1, 'Viduklė': 1, 'Viekšniai': 1, 'Viešvilė': 1, 'Žeimelis': 1, 'Žeimiai': 1, 'Žemaičių Naumiestis': 1, 'Žiežmariai': 1, 'Kretingalė': 1, 'Pumpėnai': 1, 'Bijūtiškis': 1, 'Linkuva': 1, 'Svėdasai': 1, 'Kačerginė': 1, 'Ylakiai': 1, 'Dercekliai': 1}\n"
     ]
    }
   ],
   "source": [
    "print(atms_per_10k_dict)\n",
    "print(city_counts)"
   ]
  },
  {
   "cell_type": "code",
   "execution_count": 12,
   "metadata": {},
   "outputs": [
    {
     "name": "stdout",
     "output_type": "stream",
     "text": [
      "{'Pagėgiai': 13.01, 'Vilkija': 11.56, 'Šilalė': 10.64, 'Kaišiadorys': 10.48, 'Molėtai': 10.38, 'Lazdijai': 10.27, 'Trakai': 10.15, 'Ignalina': 10.0, 'Jieznas': 9.77, 'Kupiškis': 9.71, 'Veisiejai': 9.49, 'Pasvalys': 9.36, 'Skuodas': 9.35, 'Raseiniai': 9.22, 'Šakiai': 9.19, 'Pakruojis': 8.91, 'Širvintos': 8.62, 'Simnas': 8.39, 'Ramygala': 8.35, 'Linkuva': 8.22, 'Anykščiai': 8.1, 'Žagarė': 8.02, 'Priekulė': 7.99, 'Salantai': 7.99, 'Vilkaviškis': 7.77, 'Palanga': 7.72, 'Biržai': 7.66, 'Druskininkai': 7.59, 'Kudirkos Naumiestis': 7.52, 'Varėna': 7.46, 'Kalvarija': 7.45, 'Šalčininkai': 7.31, 'Skaudvilė': 7.3, 'Kėdainiai': 7.25, 'Vievis': 7.12, 'Joniškis': 7.09, 'Plungė': 6.9, 'Rokiškis': 6.89, 'Prienai': 6.75, 'Zarasai': 6.73, 'Švenčionys': 6.7, 'Kelmė': 6.66, 'Utena': 6.64, 'Gelgaudiškis': 6.57, 'Birštonas': 6.46, 'Pabradė': 6.34, 'Ežerėlis': 6.32, 'Šilutė': 6.17, 'Rietavas': 6.15, 'Kretinga': 5.81, 'Marijampolė': 5.71, 'Jurbarkas': 5.68, 'Gargždai': 5.65, 'Tytuvėnai': 5.64, 'Kuršėnai': 5.63, 'Tauragė': 5.6, 'Kazlų Rūda': 5.45, 'Mažeikiai': 5.41, 'Telšiai': 5.39, 'Ukmergė': 5.23, 'Jonava': 5.16, 'Rūdiškės': 5.15, 'Elektrėnai': 5.11, 'Panevėžys': 5.0, 'Kybartai': 4.98, 'Naujoji Akmenė': 4.9, 'Klaipėda': 4.73, 'Šiauliai': 4.7, 'Venta': 4.64, 'Radviliškis': 4.63, 'Visaginas': 4.6, 'Kaunas': 4.59, 'Viekšniai': 4.59, 'Vilnius': 4.54, 'Alytus': 4.44, 'Akmenė': 4.38, 'Nemenčinė': 4.36, 'Švenčionėliai': 4.34, 'Šeduva': 4.23, 'Lentvaris': 4.13, 'Garliava': 3.96, 'Ariogala': 3.82, 'Eišiškės': 3.54, 'Žiežmariai': 3.3, 'Neringa': 2.49, 'Grigiškės': 2.05}\n"
     ]
    }
   ],
   "source": [
    "sorted_dict = dict(sorted(atms_per_10k_dict.items(), key=lambda item: item[1], reverse=True))\n",
    "print(sorted_dict)\n"
   ]
  },
  {
   "attachments": {},
   "cell_type": "markdown",
   "metadata": {},
   "source": [
    "# Storing data into csv"
   ]
  },
  {
   "cell_type": "code",
   "execution_count": 14,
   "metadata": {},
   "outputs": [],
   "source": [
    "data = [(city, atms_per_10k) for city, atms_per_10k in atms_per_10k_dict.items()]\n",
    "df = pd.DataFrame(data, columns=['City', 'ATMs per 10k'])\n",
    "df.to_csv('cleaned_data.csv', index=False)"
   ]
  }
 ],
 "metadata": {
  "kernelspec": {
   "display_name": "Python 3",
   "language": "python",
   "name": "python3"
  },
  "language_info": {
   "codemirror_mode": {
    "name": "ipython",
    "version": 3
   },
   "file_extension": ".py",
   "mimetype": "text/x-python",
   "name": "python",
   "nbconvert_exporter": "python",
   "pygments_lexer": "ipython3",
   "version": "3.10.4"
  },
  "orig_nbformat": 4
 },
 "nbformat": 4,
 "nbformat_minor": 2
}

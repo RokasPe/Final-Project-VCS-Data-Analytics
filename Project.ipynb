{
 "cells": [
  {
   "cell_type": "code",
   "execution_count": 2,
   "metadata": {},
   "outputs": [
    {
     "name": "stdout",
     "output_type": "stream",
     "text": [
      "Requirement already satisfied: requests in c:\\users\\rokas\\appdata\\local\\programs\\python\\python310\\lib\\site-packages (2.28.2)\n",
      "Requirement already satisfied: urllib3<1.27,>=1.21.1 in c:\\users\\rokas\\appdata\\local\\programs\\python\\python310\\lib\\site-packages (from requests) (1.26.15)\n",
      "Requirement already satisfied: certifi>=2017.4.17 in c:\\users\\rokas\\appdata\\local\\programs\\python\\python310\\lib\\site-packages (from requests) (2022.12.7)\n",
      "Requirement already satisfied: charset-normalizer<4,>=2 in c:\\users\\rokas\\appdata\\local\\programs\\python\\python310\\lib\\site-packages (from requests) (3.1.0)\n",
      "Requirement already satisfied: idna<4,>=2.5 in c:\\users\\rokas\\appdata\\local\\programs\\python\\python310\\lib\\site-packages (from requests) (3.4)\n",
      "Note: you may need to restart the kernel to use updated packages.\n"
     ]
    },
    {
     "name": "stderr",
     "output_type": "stream",
     "text": [
      "WARNING: You are using pip version 22.0.4; however, version 23.0.1 is available.\n",
      "You should consider upgrading via the 'c:\\Users\\rokas\\AppData\\Local\\Programs\\Python\\Python310\\python.exe -m pip install --upgrade pip' command.\n"
     ]
    }
   ],
   "source": [
    "%pip install requests"
   ]
  },
  {
   "cell_type": "code",
   "execution_count": 8,
   "metadata": {},
   "outputs": [],
   "source": [
    "# Imports\n",
    "import requests\n",
    "import pandas as pd\n",
    "import json\n",
    "import csv"
   ]
  },
  {
   "cell_type": "code",
   "execution_count": 11,
   "metadata": {},
   "outputs": [],
   "source": [
    "# Loading ATM JSON file\n",
    "with open('ATM.json', 'r', encoding='utf-8') as f:\n",
    "    atm_data = json.load(f)\n",
    "\n",
    "# Loading Population CSV file\n",
    "\n",
    "with open('Population.csv', 'r', encoding='utf-8') as f:\n",
    "    reader = csv.DictReader(f)\n",
    "    population_data = list(reader)\n"
   ]
  },
  {
   "cell_type": "code",
   "execution_count": 19,
   "metadata": {},
   "outputs": [
    {
     "name": "stdout",
     "output_type": "stream",
     "text": [
      "['Klaipėda', 'Akmenė', 'Šiauliai', 'Panevėžys', 'Alytus', 'Kazlų Rūda', 'Alytus', 'Palanga', 'Alytus', 'Mažeikiai', 'Vilnius', 'Alytus', 'Vilnius', 'Alytus', 'Alytus', 'Klaipėda', 'Vilnius', 'Alytus', 'Alytus', 'Vilnius', 'Vilnius', 'Anykščiai', 'Vilnius', 'Vilnius', 'Ariogala', 'Vilnius', 'Švenčionys', 'Anykščiai', 'Birštonas', 'Vilnius', 'Vilnius', 'Biržai', 'Biržai', 'Biržai', 'Didžioji Riešė', 'Druskininkai', 'Druskininkai', 'Druskininkai', 'Dusetos', 'Druskininkai', 'Elektrėnai', 'Elektrėnai', 'Elektrėnai', 'Druskininkai', 'Gargždai', 'Garliava', 'Grigiškės', 'Ignalina', 'Ignalina', 'Ignalina', 'Gargždai', 'Jonava', 'Jonava', 'Jonava', 'Jonava', 'Joniškis', 'Joniškis', 'Anykščiai', 'Jurbarkas', 'Joniškis', 'Kaišiadorys', 'Jurbarkas', 'Jurbarkas', 'Kalvarija', 'Kaišiadorys', 'Kaišiadorys', 'Kalvarija', 'Kaunas', 'Kaunas', 'Gargždai', 'Kaunas', 'Kaunas', 'Kaunas', 'Kaunas', 'Kaunas', 'Kaunas', 'Kaunas', 'Kaunas', 'Kaunas', 'Kaunas', 'Kaunas', 'Kaunas', 'Kaunas', 'Kaunas', 'Kaunas', 'Kaunas', 'Kaunas', 'Kaunas', 'Kaunas', 'Kaunas', 'Kaunas', 'Kaunas', 'Kaunas', 'Kaunas', 'Kaunas', 'Kaunas', 'Kaunas', 'Kaunas', 'Kaunas', 'Kaunas', 'Kaunas', 'Kaunas', 'Kaunas', 'Kaunas', 'Kaunas', 'Kaunas', 'Kaunas', 'Kaunas', 'Kaunas', 'Kaunas', 'Kaunas', 'Kaunas', 'Kaunas', 'Kazlų Rūda', 'Kėdainiai', 'Kėdainiai', 'Kaunas', 'Kėdainiai', 'Kėdainiai', 'Kelmė', 'Kelmė', 'Kybartai', 'Klaipėda', 'Klaipėda', 'Klaipėda', 'Klaipėda', 'Klaipėda', 'Klaipėda', 'Kaunas', 'Klaipėda', 'Klaipėda', 'Klaipėda', 'Klaipėda', 'Klaipėda', 'Klaipėda', 'Klaipėda', 'Kaunas', 'Klaipėda', 'Klaipėda', 'Klaipėda', 'Klaipėda', 'Klaipėda', 'Klaipėda', 'Klaipėda', 'Klaipėda', 'Klaipėda', 'Klaipėda', 'Klaipėda', 'Klaipėda', 'Klaipėda', 'Klaipėda', 'Krekenava', 'Klaipėda', 'Klaipėda', 'Kretinga', 'Kretinga', 'Kretinga', 'Kupiškis', 'Kupiškis', 'Kupiškis', 'Lazdijai', 'Kuršėnai', 'Lazdijai', 'Lentvaris', 'Lentvaris', 'Marijampolė', 'Marijampolė', 'Marijampolė', 'Marijampolė', 'Marijampolė', 'Marijampolė', 'Marijampolė', 'Marijampolė', 'Mažeikiai', 'Mažeikiai', 'Mažeikiai', 'Mažeikiai', 'Mažeikiai', 'Klaipėda', 'Mažeikiai', 'Molėtai', 'Molėtai', 'Kuršėnai', 'Nemenčinė', 'Naujoji Akmenė', 'Pabradė', 'Pakruojis', 'Pakruojis', 'Palanga', 'Palanga', 'Palanga', 'Molėtai', 'Panevėžys', 'Panevėžys', 'Panevėžys', 'Panevėžys', 'Panevėžys', 'Panevėžys', 'Panevėžys', 'Panevėžys', 'Panevėžys', 'Panevėžys', 'Panevėžys', 'Panevėžys', 'Panevėžys', 'Panevėžys', 'Panevėžys', 'Panevėžys', 'Panevėžys', 'Palanga', 'Panevėžys', 'Panevėžys', 'Plungė', 'Plungė', 'Plungė', 'Plungė', 'Priekulė', 'Prienai', 'Prienai', 'Prienai', 'Radviliškis', 'Pasvalys', 'Pasvalys', 'Radviliškis', 'Ramučiai', 'Radviliškis', 'Raseiniai', 'Raseiniai', 'Raseiniai', 'Pasvalys', 'Rietavas', 'Rietavas', 'Ringaudai', 'Rokiškis', 'Rokiškis', 'Salantai', 'Seda', 'Rokiškis', 'Skuodas', 'Šakiai', 'Rokiškis', 'Šakiai', 'Šakiai', 'Šalčininkai', 'Šalčininkai', 'Šeduva', 'Šalčininkai', 'Šiauliai', 'Šiauliai', 'Raseiniai', 'Skuodas', 'Šiauliai', 'Šiauliai', 'Šiauliai', 'Šiauliai', 'Šiauliai', 'Šiauliai', 'Šiauliai', 'Šiauliai', 'Šiauliai', 'Šiauliai', 'Šiauliai', 'Šiauliai', 'Šiauliai', 'Šiauliai', 'Šiauliai', 'Šiauliai', 'Šiauliai', 'Šilalė', 'Šiauliai', 'Šilalė', 'Šilalė', 'Šilutė', 'Šilutė', 'Šilutė', 'Širvintos', 'Širvintos', 'Šilutė', 'Švenčionys', 'Švenčionys', 'Šiauliai', 'Tauragė', 'Tauragė', 'Tauragė', 'Telšiai', 'Telšiai', 'Tytuvėnai', 'Telšiai', 'Telšiai', 'Trakai', 'Trakai', 'Ukmergė', 'Ukmergė', 'Ukmergė', 'Utena', 'Utena', 'Utena', 'Varėna', 'Varėna', 'Varėna', 'Veisiejai', 'Varniai', 'Venta', 'Vievis', 'Vilkaviškis', 'Vilkaviškis', 'Vilkaviškis', 'Vilkija', 'Vilkaviškis', 'Ukmergė', 'Vilnius', 'Vilnius', 'Vilnius', 'Vilnius', 'Vilnius', 'Vilnius', 'Vilnius', 'Vilnius', 'Vilnius', 'Vilnius', 'Vilnius', 'Vilnius', 'Vilnius', 'Vilnius', 'Vilnius', 'Vilnius', 'Vilnius', 'Vilnius', 'Vilnius', 'Vilnius', 'Vilnius', 'Vilnius', 'Vilnius', 'Vilnius', 'Vilnius', 'Vilnius', 'Vilnius', 'Vilnius', 'Vilnius', 'Vilnius', 'Vilnius', 'Vilnius', 'Vilnius', 'Vilnius', 'Vilnius', 'Vilnius', 'Vilnius', 'Vilnius', 'Vilnius', 'Vilnius', 'Vilnius', 'Vilnius', 'Vilnius', 'Vilnius', 'Vilnius', 'Vilnius', 'Vilnius', 'Vilnius', 'Vilnius', 'Vilnius', 'Vilnius', 'Vilnius', 'Vilnius', 'Vilnius', 'Vilnius', 'Vilnius', 'Vilnius', 'Vilnius', 'Vilnius', 'Vilnius', 'Vilnius', 'Vilnius', 'Vilnius', 'Vilnius', 'Vilnius', 'Vilnius', 'Vilnius', 'Vilnius', 'Vilnius', 'Vilnius', 'Vilnius', 'Vilnius', 'Vilnius', 'Vilnius', 'Vilnius', 'Vilnius', 'Vilnius', 'Vilnius', 'Vilnius', 'Visaginas', 'Visaginas', 'Visaginas', 'Visaginas', 'Vilnius', 'Zarasai', 'Zarasai', 'Žagarė', 'Vilnius', 'Alytus', 'Alytus', 'Alytus', 'Baisogala', 'Alytus', 'Anykščiai', 'Birštonas', 'Druskininkai', 'Biržai', 'Elektrėnai', 'Druskininkai', 'Garliava', 'Jonava', 'Vilnius', 'Jurbarkas', 'Karmėlava', 'Gargždai', 'Kaunas', 'Kaunas', 'Kaunas', 'Kaunas', 'Kaunas', 'Kaunas', 'Kaunas', 'Kaunas', 'Kaunas', 'Kaunas', 'Kaunas', 'Kaunas', 'Kaunas', 'Kaunas', 'Kėdainiai', 'Kėdainiai', 'Kaunas', 'Kaunas', 'Klaipėda', 'Klaipėda', 'Klaipėda', 'Kaunas', 'Klaipėda', 'Klaipėda', 'Klaipėda', 'Klaipėda', 'Klaipėda', 'Klaipėda', 'Klaipėda', 'Klaipėda', 'Kupiškis', 'Kretinga', 'Kuršėnai', 'Nida', 'Vilnius', 'Marijampolė', 'Klaipėda', 'Mažeikiai', 'Neringa', 'Marijampolė', 'Palanga', 'Palanga', 'Panevėžys', 'Kuršėnai', 'Panevėžys', 'Panevėžys', 'Plungė', 'Plungė', 'Prienai', 'Radviliškis', 'Pagėgiai', 'Rokiškis', 'Panevėžys', 'Šiauliai', 'Šiauliai', 'Šiauliai', 'Palanga', 'Šiauliai', 'Šiauliai', 'Raseiniai', 'Šiauliai', 'Šiauliai', 'Šiauliai', 'Šiauliai', 'Šilutė', 'Šilutė', 'Šiauliai', 'Tauragė', 'Tauragė', 'Trakai', 'Telšiai', 'Ukmergė', 'Utena', 'Varėna', 'Skuodas', 'Vilkaviškis', 'Šiauliai', 'Dukstyna', 'Vilnius', 'Vilnius', 'Vilnius', 'Vilnius', 'Vilnius', 'Vilnius', 'Vilnius', 'Vilnius', 'Vilnius', 'Vilnius', 'Vilnius', 'Vilnius', 'Vilnius', 'Vilnius', 'Vilnius', 'Vilnius', 'Vilnius', 'Vilnius', 'Vilnius', 'Vilnius', 'Vilnius', 'Vilnius', 'Vilnius', 'Vilnius', 'Vilnius', 'Vilnius', 'Vilnius', 'Vilnius', 'Vilnius', 'Vilnius', 'Vilnius', 'Vilnius', 'Vilnius', 'Vilnius', 'Vilnius', 'Vilnius', 'Visaginas', 'Visaginas', 'Alytus', 'Alytus', 'Alytus', 'Vilnius', 'Vilnius', 'Vilnius', 'Biržai', 'Eišiškės', 'Didžioji Riešė', 'Druskininkai', 'Elektrėnai', 'Gargždai', 'Garliava', 'Ignalina', 'Jonava', 'Jonava', 'Jonava', 'Gargždai', 'Joniškis', 'Joniškis', 'Kaišiadorys', 'Kalvarija', 'Kaišiadorys', 'Anykščiai', 'Jurbarkas', 'Jurbarkas', 'Kaunas', 'Kaunas', 'Kaunas', 'Kaunas', 'Kaunas', 'Kaunas', 'Kaunas', 'Kaunas', 'Kaunas', 'Kaunas', 'Kaunas', 'Kaunas', 'Kaunas', 'Kaunas', 'Kaunas', 'Kaunas', 'Kaunas', 'Kaunas', 'Kelmė', 'Kelmė', 'Kėdainiai\\xa0', 'Klaipėda', 'Kaunas', 'Klaipėda', 'Klaipėda', 'Klaipėda', 'Klaipėda', 'Klaipėda', 'Klaipėda', 'Kupiškis', 'Kretinga', 'Kybartai', 'Klaipėda', 'Kėdainiai', 'Lazdijai', 'Kaunas', 'Lentvaris', 'Marijampolė', 'Marijampolė', 'Marijampolė', 'Mažeikiai', 'Mažeikiai', 'Kretinga', 'Mažeikiai', 'Naujoji Akmenė', 'Kuršėnai', 'Lazdijai', 'Pabradė', 'Pakruojis', 'Pakruojis\\xa0', 'Palanga', 'Panevėžys', 'Panevėžys', 'Panevėžys', 'Panevėžys', 'Plungė', 'Plungė', 'Molėtai', 'Prienai', 'Radviliškis', 'Radviliškis', 'Raseiniai', 'Raseiniai', 'Rokiškis', 'Šakiai', 'Šakiai', 'Šalčininkai', 'Šalčininkai', 'Šiauliai', 'Pasvalys', 'Pasvalys', 'Šiauliai', 'Šiauliai', 'Šiauliai', 'Šilalė', 'Šilutė', 'Šiauliai', 'Širvintos', 'Skuodas', 'Skuodas', 'Švenčionėliai', 'Šilalė', 'Širvintos', 'Telšiai', 'Telšiai', 'Telšiai', 'Ukmergė', 'Trakai', 'Ukmergė', 'Šiauliai', 'Varėna', 'Vievis', 'Ukmergė', 'Utena', 'Vilkaviškis', 'Vilkaviškis', 'Vilkaviškis', 'Vilkija', 'Utena', 'Vilnius', 'Vilnius', 'Vilnius', 'Tauragė', 'Tauragė', 'Tauragė', 'Šilutė', 'Trakų Vokė', 'Vilnius', 'Vilnius', 'Vilnius', 'Vilnius', 'Vilnius', 'Vilnius', 'Vilnius', 'Vilnius', 'Vilnius', 'Vilnius', 'Vilnius', 'Vilnius', 'Vilnius', 'Vilnius', 'Vilnius', 'Vilnius', 'Vilnius', 'Vilnius', 'Vilnius', 'Vilnius', 'Vilnius', 'Vilnius', 'Vilnius', 'Vilnius', 'Visaginas', 'Zarasai', 'Akademija', 'Akademija', 'Vilnius', 'Vilnius', 'Alytus', 'Alytus', 'Alytus', 'Alytus', 'Alytus', 'Alytus', 'Anykščiai', 'Alytus', 'Anykščiai', 'Alytus', 'Biržai', 'Druskininkai', 'Didžioji Riešė', 'Dukstyna', 'Elektrėnai', 'Dukstyna', 'Vilnius', 'Druskininkai', 'Garliava', 'Ginkūnai', 'Grigiškės', 'Ignalina', 'Gargždai', 'Gargždai', 'Gargždai', 'Jonava', 'Jonava', 'Jonava', 'Jonava', 'Jonava', 'Jonava', 'Joniškis', 'Kaišiadorys', 'Kaišiadorys', 'Kaunas', 'Kaunas', 'Kaunas', 'Karmėlava', 'Kaunas', 'Kaunas', 'Kaunas', 'Kaunas', 'Kaunas', 'Kaunas', 'Kaunas', 'Kaunas', 'Kaunas', 'Kaunas', 'Kaunas', 'Kaunas', 'Kaunas', 'Kaunas', 'Kaunas', 'Kaunas', 'Kaunas', 'Kaunas', 'Kaunas', 'Kaunas', 'Kaunas', 'Kaunas', 'Kaunas', 'Kaunas', 'Kaunas', 'Kaunas', 'Kaunas', 'Kaunas', 'Kaunas', 'Kaunas', 'Kaunas', 'Kaunas', 'Kaunas', 'Kaunas', 'Kaunas', 'Kaunas', 'Kaunas', 'Kaunas', 'Kaunas', 'Kazlų Rūda', 'Kaunas', 'Kėdainiai', 'Kaunas', 'Kėdainiai', 'Kėdainiai', 'Kėdainiai', 'Kėdainiai', 'Klaipėda', 'Klaipėda', 'Klaipėda', 'Kaunas', 'Klaipėda', 'Klaipėda', 'Klaipėda', 'Klaipėda', 'Klaipėda', 'Klaipėda', 'Klaipėda', 'Klaipėda', 'Klaipėda', 'Klaipėda', 'Klaipėda', 'Klaipėda', 'Klaipėda', 'Klaipėda', 'Klaipėda', 'Klaipėda', 'Kretinga', 'Klaipėda', 'Klaipėda', 'Kretinga', 'Kupiškis', 'Kretinga', 'Kretinga', 'Lentvaris', 'Kuršėnai', 'Marijampolė', 'Marijampolė', 'Marijampolė', 'Marijampolė', 'Marijampolė', 'Marijampolė', 'Marijampolė', 'Marijampolė', 'Mažeikiai', 'Mažeikiai', 'Mažeikiai', 'Mažeikiai', 'Mažeikiai', 'Mažeikiai', 'Mažeikiai', 'Molėtai', 'Naujoji Akmenė', 'Nemenčinė', 'Palanga', 'Palanga', 'Panevėžys', 'Panevėžys', 'Panevėžys', 'Panevėžys', 'Palanga', 'Molėtai', 'Pabradė', 'Panevėžys', 'Panevėžys', 'Panevėžys', 'Panevėžys', 'Panevėžys', 'Nida', 'Naujojji Vilnia', 'Naujoji Vilnia', 'Panevėžys', 'Panevėžys', 'Panevėžys', 'Panevėžys', 'Panevėžys', 'Pasvalys', 'Panevėžys', 'Plungė', 'Panevėžys', 'Plungė', 'Prienai', 'Plungė', 'Radviliškis', 'Rokiškis', 'Raseiniai', 'Rudamina', 'Rokiškis', 'Šiauliai', 'Šiauliai', 'Šiauliai', 'Šiauliai', 'Šiauliai', 'Šiauliai', 'Šiauliai', 'Šiauliai', 'Šilutė', 'Šiauliai', 'Šilutė', 'Širvintos', 'Šiauliai', 'Tauragė', 'Tauragė', 'Tauragė', 'Parokiškė', 'Tauragė', 'Skaudvilė', 'Raseiniai', 'Telšiai', 'Trakai', 'Telšiai', 'Telšiai', 'Trakai', 'Telšiai', 'Ukmergė', 'Ukmergė', 'Utena', 'Utena', 'Utena', 'Utena', 'Rukla', 'Šventoji', 'Trakų Vokė', 'Utena', 'Utena', 'Utena', 'Varėna', 'Utena', 'Vilkavškis', 'Ukmergė', 'Vilnius', 'Vilnius', 'Vilnius', 'Vilnius', 'Vilnius', 'Vilnius', 'Vilnius', 'Vilnius', 'Vilnius', 'Vilnius', 'Vilnius', 'Vilnius', 'Vilnius', 'Vilnius', 'Vilnius', 'Vilnius', 'Vilnius', 'Vilnius', 'Vilnius', 'Vilnius', 'Vilnius', 'Vilnius', 'Vilnius', 'Vilnius', 'Vilnius', 'Vilnius', 'Vilnius', 'Vilnius', 'Vilnius', 'Vilnius', 'Vilnius', 'Vilnius', 'Vilnius', 'Vilnius', 'Vilnius', 'Vilnius', 'Vilnius', 'Vilnius', 'Vilnius', 'Vilnius', 'Vilnius', 'Vilnius', 'Vilnius', 'Vilnius', 'Vilnius', 'Vilnius', 'Vilnius', 'Vilnius', 'Vilnius', 'Vilnius', 'Vilnius', 'Vilnius', 'Vilnius', 'Vilnius', 'Vilnius', 'Vilnius', 'Vilnius', 'Vilnius', 'Vilnius', 'Vilnius', 'Vilnius', 'Vilnius', 'Vilnius', 'Vilnius', 'Vilnius', 'Vilnius', 'Vilnius', 'Vilnius', 'Vilnius', 'Vilnius', 'Vilnius', 'Vilnius', 'Vilnius', 'Vilnius', 'Vilnius', 'Vilnius', 'Vilnius', 'Vilnius', 'Vilnius', 'Vilnius', 'Visaginas', 'Visaginas', 'Zarasai', 'Vilnius', 'Vilnius', 'Vilnius', 'Vilnius', 'Kaunas', 'Kaunas', 'Kaunas', 'Kėdainiai', 'Kėdainiai', 'Kelmė', 'N. Akmenė', 'Pagėgiai', 'Švenčionėliai', 'Utena', 'Utena', 'Utena', 'Vievis', 'Kaunas', 'Adutiškis', 'Alanta', 'Alsėdžiai', 'Aukštadvaris', 'Babtai', 'Balbieriškis', 'BaltojiVokė', 'Butrimonys', 'Pabaliai, Daugėliškių k.', 'Darbėnai', 'Daugai', 'Didžiasalis', 'Dieveniškės', 'Dūkštas', 'Pyktiškė', 'Ežerėlis', 'Gelgaudiškis', 'Šėtupio g. 32, Girkalnis', 'Griškabūdis', 'Gruzdžiai', 'Igliauka', 'Išlaužas', 'Jašiūnai', 'Jieznas', 'Joniškėlis', 'Juodupė', 'Kaltinėnai', 'Kalveliai', 'Kartena', 'Kavarskas', 'Klausučiai', 'KudirkosNaumiestis', 'Kulautuva', 'Kužiai', 'Kvėdarna', 'Labūnava', 'Laukuva', 'Leipalingis', 'Maišiagala', 'Matuizos', 'Merkinė', 'Meškuičiai', 'Mickūnai', 'Miežiškiai', 'Mosėdis', 'Mostiškės', 'Naujamiestis', 'Nemakščiai', 'Obeliai', 'Paberžė', 'Pagiriai', 'Pajūris', 'Pakuonis', 'Paluknys', 'Pandėlys', 'Piliuona', 'Pilviškiai', 'Plateliai', 'Ramygala', 'Rozalimas', 'Rūdiškės', 'Rukainiai', 'Rumšiškės', 'Gedimino g. 11, Saločiai', 'Saugos', 'Seirijai', 'Simnas', 'Skaistgirys', 'Smalininkai', 'Stakliškės', 'Subačius', 'Sudervė', 'Šėta', 'Šiaulėnai', 'Švėkšna', 'Tryškiai', 'Upninkai', 'Rukai', 'Išorai', 'Užventis', 'Vabalninkas', 'Vainutas', 'Vandžiogala', 'Veiveriai', 'Veiviržėnai', 'Viduklė', 'Viekšniai', 'Viešvilė', 'Vienybės a. 14, Žeimelis', 'Žeimiai', 'ŽemaičiųNaumiestis', 'Žiežmariai', 'Kretingalė', 'Pumpėnai', 'Bijūtiškis', 'Linkuva', 'Svėdasai', 'Kačerginė', 'Ylakiai', 'Dercekliai', 'Kaunas', 'Biržai', 'Biržai', 'Kaišiadorys', 'Kaišiadorys', 'Plungė', 'Vilnius', 'Kėdainiai', 'Kaunas', 'Kaunas', 'Kaunas', 'Kėdainiai', 'Vilnius', 'Klaipeda', 'Vilnius', 'Vilnius', 'Palanga', 'Vilnius', 'Klaipeda', 'Kaunas', 'Vilnius', 'Vilnius', 'Vilnius', 'Karmėlava', 'Palanga', 'Vilnius', 'Vilnius', 'Vilnius', 'Vilnius', 'Vilnius', 'Vilnius', 'Vilnius', 'Vilnius', 'Kaunas', 'Vilnius', 'Vilnius']\n",
      "{'Klaipėda': 73, 'Akmenė': 1, 'Šiauliai': 49, 'Panevėžys': 44, 'Alytus': 23, 'Kazlų Rūda': 3, 'Palanga': 14, 'Mažeikiai': 18, 'Vilnius': 264, 'Anykščiai': 7, 'Ariogala': 1, 'Švenčionys': 3, 'Birštonas': 2, 'Biržai': 8, 'Didžioji Riešė': 3, 'Druskininkai': 10, 'Dusetos': 1, 'Elektrėnai': 6, 'Gargždai': 9, 'Garliava': 4, 'Grigiškės': 2, 'Ignalina': 5, 'Jonava': 14, 'Joniškis': 6, 'Jurbarkas': 6, 'Kaišiadorys': 9, 'Kalvarija': 3, 'Kaunas': 140, 'Kėdainiai': 16, 'Kelmė': 5, 'Kybartai': 2, 'Krekenava': 1, 'Kretinga': 10, 'Kupiškis': 6, 'Lazdijai': 4, 'Kuršėnai': 6, 'Lentvaris': 4, 'Marijampolė': 21, 'Molėtai': 6, 'Nemenčinė': 2, 'Naujoji Akmenė': 3, 'Pabradė': 3, 'Pakruojis': 3, 'Plungė': 12, 'Priekulė': 1, 'Prienai': 6, 'Radviliškis': 7, 'Pasvalys': 6, 'Ramučiai': 1, 'Raseiniai': 9, 'Rietavas': 2, 'Ringaudai': 1, 'Rokiškis': 8, 'Salantai': 1, 'Seda': 1, 'Skuodas': 5, 'Šakiai': 5, 'Šalčininkai': 5, 'Šeduva': 1, 'Šilalė': 5, 'Šilutė': 10, 'Širvintos': 5, 'Tauragė': 12, 'Telšiai': 12, 'Tytuvėnai': 1, 'Trakai': 6, 'Ukmergė': 11, 'Utena': 17, 'Varėna': 6, 'Veisiejai': 1, 'Varniai': 1, 'Venta': 1, 'Vievis': 3, 'Vilkaviškis': 8, 'Vilkija': 2, 'Visaginas': 9, 'Zarasai': 4, 'Žagarė': 1, 'Baisogala': 1, 'Karmėlava': 3, 'Nida': 2, 'Neringa': 1, 'Pagėgiai': 2, 'Dukstyna': 3, 'Eišiškės': 1, 'Kėdainiai\\xa0': 1, 'Pakruojis\\xa0': 1, 'Švenčionėliai': 2, 'Trakų Vokė': 2, 'Akademija': 2, 'Ginkūnai': 1, 'Naujojji Vilnia': 1, 'Naujoji Vilnia': 1, 'Rudamina': 1, 'Parokiškė': 1, 'Skaudvilė': 1, 'Rukla': 1, 'Šventoji': 1, 'Vilkavškis': 1, 'N. Akmenė': 1, 'Adutiškis': 1, 'Alanta': 1, 'Alsėdžiai': 1, 'Aukštadvaris': 1, 'Babtai': 1, 'Balbieriškis': 1, 'BaltojiVokė': 1, 'Butrimonys': 1, 'Pabaliai, Daugėliškių k.': 1, 'Darbėnai': 1, 'Daugai': 1, 'Didžiasalis': 1, 'Dieveniškės': 1, 'Dūkštas': 1, 'Pyktiškė': 1, 'Ežerėlis': 1, 'Gelgaudiškis': 1, 'Šėtupio g. 32, Girkalnis': 1, 'Griškabūdis': 1, 'Gruzdžiai': 1, 'Igliauka': 1, 'Išlaužas': 1, 'Jašiūnai': 1, 'Jieznas': 1, 'Joniškėlis': 1, 'Juodupė': 1, 'Kaltinėnai': 1, 'Kalveliai': 1, 'Kartena': 1, 'Kavarskas': 1, 'Klausučiai': 1, 'KudirkosNaumiestis': 1, 'Kulautuva': 1, 'Kužiai': 1, 'Kvėdarna': 1, 'Labūnava': 1, 'Laukuva': 1, 'Leipalingis': 1, 'Maišiagala': 1, 'Matuizos': 1, 'Merkinė': 1, 'Meškuičiai': 1, 'Mickūnai': 1, 'Miežiškiai': 1, 'Mosėdis': 1, 'Mostiškės': 1, 'Naujamiestis': 1, 'Nemakščiai': 1, 'Obeliai': 1, 'Paberžė': 1, 'Pagiriai': 1, 'Pajūris': 1, 'Pakuonis': 1, 'Paluknys': 1, 'Pandėlys': 1, 'Piliuona': 1, 'Pilviškiai': 1, 'Plateliai': 1, 'Ramygala': 1, 'Rozalimas': 1, 'Rūdiškės': 1, 'Rukainiai': 1, 'Rumšiškės': 1, 'Gedimino g. 11, Saločiai': 1, 'Saugos': 1, 'Seirijai': 1, 'Simnas': 1, 'Skaistgirys': 1, 'Smalininkai': 1, 'Stakliškės': 1, 'Subačius': 1, 'Sudervė': 1, 'Šėta': 1, 'Šiaulėnai': 1, 'Švėkšna': 1, 'Tryškiai': 1, 'Upninkai': 1, 'Rukai': 1, 'Išorai': 1, 'Užventis': 1, 'Vabalninkas': 1, 'Vainutas': 1, 'Vandžiogala': 1, 'Veiveriai': 1, 'Veiviržėnai': 1, 'Viduklė': 1, 'Viekšniai': 1, 'Viešvilė': 1, 'Vienybės a. 14, Žeimelis': 1, 'Žeimiai': 1, 'ŽemaičiųNaumiestis': 1, 'Žiežmariai': 1, 'Kretingalė': 1, 'Pumpėnai': 1, 'Bijūtiškis': 1, 'Linkuva': 1, 'Svėdasai': 1, 'Kačerginė': 1, 'Ylakiai': 1, 'Dercekliai': 1, 'Klaipeda': 2}\n"
     ]
    }
   ],
   "source": [
    "# Filtering out only relevant data which is cities\n",
    "atm_cities = []\n",
    "\n",
    "for feature in atm_data['features']:\n",
    "    city = feature['properties']['USER_Miest']\n",
    "    atm_cities.append(city)\n",
    "    \n",
    "print(atm_cities)\n",
    "\n",
    "# Counting ATMs in each city\n",
    "\n",
    "city_counts = {}\n",
    "\n",
    "for city in atm_cities:\n",
    "    if city in city_counts:\n",
    "        city_counts[city] += 1\n",
    "    else:\n",
    "        city_counts[city] = 1\n",
    "        \n",
    "print(city_counts)\n"
   ]
  },
  {
   "cell_type": "code",
   "execution_count": 20,
   "metadata": {},
   "outputs": [
    {
     "name": "stdout",
     "output_type": "stream",
     "text": [
      "{'Klaipėda': 73, 'Akmenė': 1, 'Šiauliai': 49, 'Panevėžys': 44, 'Alytus': 23, 'Kazlų Rūda': 3, 'Palanga': 14, 'Mažeikiai': 18, 'Vilnius': 264, 'Anykščiai': 7, 'Ariogala': 1, 'Švenčionys': 3, 'Birštonas': 2, 'Biržai': 8, 'Didžioji Riešė': 3, 'Druskininkai': 10, 'Dusetos': 1, 'Elektrėnai': 6, 'Gargždai': 9, 'Garliava': 4, 'Grigiškės': 2, 'Ignalina': 5, 'Jonava': 14, 'Joniškis': 6, 'Jurbarkas': 6, 'Kaišiadorys': 9, 'Kalvarija': 3, 'Kaunas': 140, 'Kėdainiai': 16, 'Kelmė': 5, 'Kybartai': 2, 'Krekenava': 1, 'Kretinga': 10, 'Kupiškis': 6, 'Lazdijai': 4, 'Kuršėnai': 6, 'Lentvaris': 4, 'Marijampolė': 21, 'Molėtai': 6, 'Nemenčinė': 2, 'Naujoji Akmenė': 3, 'Pabradė': 3, 'Pakruojis': 3, 'Plungė': 12, 'Priekulė': 1, 'Prienai': 6, 'Radviliškis': 7, 'Pasvalys': 6, 'Ramučiai': 1, 'Raseiniai': 9, 'Rietavas': 2, 'Ringaudai': 1, 'Rokiškis': 8, 'Salantai': 1, 'Seda': 1, 'Skuodas': 5, 'Šakiai': 5, 'Šalčininkai': 5, 'Šeduva': 1, 'Šilalė': 5, 'Šilutė': 10, 'Širvintos': 5, 'Tauragė': 12, 'Telšiai': 12, 'Tytuvėnai': 1, 'Trakai': 6, 'Ukmergė': 11, 'Utena': 17, 'Varėna': 6, 'Veisiejai': 1, 'Varniai': 1, 'Venta': 1, 'Vievis': 3, 'Vilkaviškis': 8, 'Vilkija': 2, 'Visaginas': 9, 'Zarasai': 4, 'Žagarė': 1, 'Baisogala': 1, 'Karmėlava': 3, 'Nida': 2, 'Neringa': 1, 'Pagėgiai': 2, 'Dukstyna': 3, 'Eišiškės': 1, 'Kėdainiai\\xa0': 1, 'Pakruojis\\xa0': 1, 'Švenčionėliai': 2, 'Trakų Vokė': 2, 'Akademija': 2, 'Ginkūnai': 1, 'Naujojji Vilnia': 1, 'Naujoji Vilnia': 1, 'Rudamina': 1, 'Parokiškė': 1, 'Skaudvilė': 1, 'Rukla': 1, 'Šventoji': 1, 'Vilkavškis': 1, 'N. Akmenė': 1, 'Adutiškis': 1, 'Alanta': 1, 'Alsėdžiai': 1, 'Aukštadvaris': 1, 'Babtai': 1, 'Balbieriškis': 1, 'BaltojiVokė': 1, 'Butrimonys': 1, 'Pabaliai, Daugėliškių k.': 1, 'Darbėnai': 1, 'Daugai': 1, 'Didžiasalis': 1, 'Dieveniškės': 1, 'Dūkštas': 1, 'Pyktiškė': 1, 'Ežerėlis': 1, 'Gelgaudiškis': 1, 'Šėtupio g. 32, Girkalnis': 1, 'Griškabūdis': 1, 'Gruzdžiai': 1, 'Igliauka': 1, 'Išlaužas': 1, 'Jašiūnai': 1, 'Jieznas': 1, 'Joniškėlis': 1, 'Juodupė': 1, 'Kaltinėnai': 1, 'Kalveliai': 1, 'Kartena': 1, 'Kavarskas': 1, 'Klausučiai': 1, 'KudirkosNaumiestis': 1, 'Kulautuva': 1, 'Kužiai': 1, 'Kvėdarna': 1, 'Labūnava': 1, 'Laukuva': 1, 'Leipalingis': 1, 'Maišiagala': 1, 'Matuizos': 1, 'Merkinė': 1, 'Meškuičiai': 1, 'Mickūnai': 1, 'Miežiškiai': 1, 'Mosėdis': 1, 'Mostiškės': 1, 'Naujamiestis': 1, 'Nemakščiai': 1, 'Obeliai': 1, 'Paberžė': 1, 'Pagiriai': 1, 'Pajūris': 1, 'Pakuonis': 1, 'Paluknys': 1, 'Pandėlys': 1, 'Piliuona': 1, 'Pilviškiai': 1, 'Plateliai': 1, 'Ramygala': 1, 'Rozalimas': 1, 'Rūdiškės': 1, 'Rukainiai': 1, 'Rumšiškės': 1, 'Gedimino g. 11, Saločiai': 1, 'Saugos': 1, 'Seirijai': 1, 'Simnas': 1, 'Skaistgirys': 1, 'Smalininkai': 1, 'Stakliškės': 1, 'Subačius': 1, 'Sudervė': 1, 'Šėta': 1, 'Šiaulėnai': 1, 'Švėkšna': 1, 'Tryškiai': 1, 'Upninkai': 1, 'Rukai': 1, 'Išorai': 1, 'Užventis': 1, 'Vabalninkas': 1, 'Vainutas': 1, 'Vandžiogala': 1, 'Veiveriai': 1, 'Veiviržėnai': 1, 'Viduklė': 1, 'Viekšniai': 1, 'Viešvilė': 1, 'Vienybės a. 14, Žeimelis': 1, 'Žeimiai': 1, 'ŽemaičiųNaumiestis': 1, 'Žiežmariai': 1, 'Kretingalė': 1, 'Pumpėnai': 1, 'Bijūtiškis': 1, 'Linkuva': 1, 'Svėdasai': 1, 'Kačerginė': 1, 'Ylakiai': 1, 'Dercekliai': 1, 'Klaipeda': 2}\n"
     ]
    }
   ],
   "source": [
    "print(city_counts)"
   ]
  }
 ],
 "metadata": {
  "kernelspec": {
   "display_name": "Python 3",
   "language": "python",
   "name": "python3"
  },
  "language_info": {
   "codemirror_mode": {
    "name": "ipython",
    "version": 3
   },
   "file_extension": ".py",
   "mimetype": "text/x-python",
   "name": "python",
   "nbconvert_exporter": "python",
   "pygments_lexer": "ipython3",
   "version": "3.10.4"
  },
  "orig_nbformat": 4
 },
 "nbformat": 4,
 "nbformat_minor": 2
}
